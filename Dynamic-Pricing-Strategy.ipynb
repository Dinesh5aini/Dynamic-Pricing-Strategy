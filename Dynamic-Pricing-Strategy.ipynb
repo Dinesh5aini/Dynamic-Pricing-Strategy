{
 "cells": [
  {
   "cell_type": "code",
   "execution_count": 1,
   "id": "1dfdf992",
   "metadata": {},
   "outputs": [],
   "source": [
    "import pandas as pd\n",
    "import plotly.express as px\n",
    "import plotly.graph_objects as go"
   ]
  },
  {
   "cell_type": "code",
   "execution_count": 2,
   "id": "9a24f1f7",
   "metadata": {},
   "outputs": [
    {
     "data": {
      "text/html": [
       "<div>\n",
       "<style scoped>\n",
       "    .dataframe tbody tr th:only-of-type {\n",
       "        vertical-align: middle;\n",
       "    }\n",
       "\n",
       "    .dataframe tbody tr th {\n",
       "        vertical-align: top;\n",
       "    }\n",
       "\n",
       "    .dataframe thead th {\n",
       "        text-align: right;\n",
       "    }\n",
       "</style>\n",
       "<table border=\"1\" class=\"dataframe\">\n",
       "  <thead>\n",
       "    <tr style=\"text-align: right;\">\n",
       "      <th></th>\n",
       "      <th>Number_of_Riders</th>\n",
       "      <th>Number_of_Drivers</th>\n",
       "      <th>Location_Category</th>\n",
       "      <th>Customer_Loyalty_Status</th>\n",
       "      <th>Number_of_Past_Rides</th>\n",
       "      <th>Average_Ratings</th>\n",
       "      <th>Time_of_Booking</th>\n",
       "      <th>Vehicle_Type</th>\n",
       "      <th>Expected_Ride_Duration</th>\n",
       "      <th>Historical_Cost_of_Ride</th>\n",
       "    </tr>\n",
       "  </thead>\n",
       "  <tbody>\n",
       "    <tr>\n",
       "      <th>0</th>\n",
       "      <td>90</td>\n",
       "      <td>45</td>\n",
       "      <td>Urban</td>\n",
       "      <td>Silver</td>\n",
       "      <td>13</td>\n",
       "      <td>4.47</td>\n",
       "      <td>Night</td>\n",
       "      <td>Premium</td>\n",
       "      <td>90</td>\n",
       "      <td>284.257273</td>\n",
       "    </tr>\n",
       "    <tr>\n",
       "      <th>1</th>\n",
       "      <td>58</td>\n",
       "      <td>39</td>\n",
       "      <td>Suburban</td>\n",
       "      <td>Silver</td>\n",
       "      <td>72</td>\n",
       "      <td>4.06</td>\n",
       "      <td>Evening</td>\n",
       "      <td>Economy</td>\n",
       "      <td>43</td>\n",
       "      <td>173.874753</td>\n",
       "    </tr>\n",
       "    <tr>\n",
       "      <th>2</th>\n",
       "      <td>42</td>\n",
       "      <td>31</td>\n",
       "      <td>Rural</td>\n",
       "      <td>Silver</td>\n",
       "      <td>0</td>\n",
       "      <td>3.99</td>\n",
       "      <td>Afternoon</td>\n",
       "      <td>Premium</td>\n",
       "      <td>76</td>\n",
       "      <td>329.795469</td>\n",
       "    </tr>\n",
       "    <tr>\n",
       "      <th>3</th>\n",
       "      <td>89</td>\n",
       "      <td>28</td>\n",
       "      <td>Rural</td>\n",
       "      <td>Regular</td>\n",
       "      <td>67</td>\n",
       "      <td>4.31</td>\n",
       "      <td>Afternoon</td>\n",
       "      <td>Premium</td>\n",
       "      <td>134</td>\n",
       "      <td>470.201232</td>\n",
       "    </tr>\n",
       "    <tr>\n",
       "      <th>4</th>\n",
       "      <td>78</td>\n",
       "      <td>22</td>\n",
       "      <td>Rural</td>\n",
       "      <td>Regular</td>\n",
       "      <td>74</td>\n",
       "      <td>3.77</td>\n",
       "      <td>Afternoon</td>\n",
       "      <td>Economy</td>\n",
       "      <td>149</td>\n",
       "      <td>579.681422</td>\n",
       "    </tr>\n",
       "  </tbody>\n",
       "</table>\n",
       "</div>"
      ],
      "text/plain": [
       "   Number_of_Riders  Number_of_Drivers Location_Category  \\\n",
       "0                90                 45             Urban   \n",
       "1                58                 39          Suburban   \n",
       "2                42                 31             Rural   \n",
       "3                89                 28             Rural   \n",
       "4                78                 22             Rural   \n",
       "\n",
       "  Customer_Loyalty_Status  Number_of_Past_Rides  Average_Ratings  \\\n",
       "0                  Silver                    13             4.47   \n",
       "1                  Silver                    72             4.06   \n",
       "2                  Silver                     0             3.99   \n",
       "3                 Regular                    67             4.31   \n",
       "4                 Regular                    74             3.77   \n",
       "\n",
       "  Time_of_Booking Vehicle_Type  Expected_Ride_Duration  \\\n",
       "0           Night      Premium                      90   \n",
       "1         Evening      Economy                      43   \n",
       "2       Afternoon      Premium                      76   \n",
       "3       Afternoon      Premium                     134   \n",
       "4       Afternoon      Economy                     149   \n",
       "\n",
       "   Historical_Cost_of_Ride  \n",
       "0               284.257273  \n",
       "1               173.874753  \n",
       "2               329.795469  \n",
       "3               470.201232  \n",
       "4               579.681422  "
      ]
     },
     "execution_count": 2,
     "metadata": {},
     "output_type": "execute_result"
    }
   ],
   "source": [
    "df = pd.read_csv('dynamic_pricing.csv')\n",
    "df.head()"
   ]
  },
  {
   "cell_type": "code",
   "execution_count": 3,
   "id": "961552aa",
   "metadata": {},
   "outputs": [
    {
     "name": "stdout",
     "output_type": "stream",
     "text": [
      "<class 'pandas.core.frame.DataFrame'>\n",
      "RangeIndex: 1000 entries, 0 to 999\n",
      "Data columns (total 10 columns):\n",
      " #   Column                   Non-Null Count  Dtype  \n",
      "---  ------                   --------------  -----  \n",
      " 0   Number_of_Riders         1000 non-null   int64  \n",
      " 1   Number_of_Drivers        1000 non-null   int64  \n",
      " 2   Location_Category        1000 non-null   object \n",
      " 3   Customer_Loyalty_Status  1000 non-null   object \n",
      " 4   Number_of_Past_Rides     1000 non-null   int64  \n",
      " 5   Average_Ratings          1000 non-null   float64\n",
      " 6   Time_of_Booking          1000 non-null   object \n",
      " 7   Vehicle_Type             1000 non-null   object \n",
      " 8   Expected_Ride_Duration   1000 non-null   int64  \n",
      " 9   Historical_Cost_of_Ride  1000 non-null   float64\n",
      "dtypes: float64(2), int64(4), object(4)\n",
      "memory usage: 78.2+ KB\n"
     ]
    }
   ],
   "source": [
    "df.info()"
   ]
  },
  {
   "cell_type": "code",
   "execution_count": 4,
   "id": "f81a0d86",
   "metadata": {},
   "outputs": [
    {
     "data": {
      "text/html": [
       "<div>\n",
       "<style scoped>\n",
       "    .dataframe tbody tr th:only-of-type {\n",
       "        vertical-align: middle;\n",
       "    }\n",
       "\n",
       "    .dataframe tbody tr th {\n",
       "        vertical-align: top;\n",
       "    }\n",
       "\n",
       "    .dataframe thead th {\n",
       "        text-align: right;\n",
       "    }\n",
       "</style>\n",
       "<table border=\"1\" class=\"dataframe\">\n",
       "  <thead>\n",
       "    <tr style=\"text-align: right;\">\n",
       "      <th></th>\n",
       "      <th>Number_of_Riders</th>\n",
       "      <th>Number_of_Drivers</th>\n",
       "      <th>Number_of_Past_Rides</th>\n",
       "      <th>Average_Ratings</th>\n",
       "      <th>Expected_Ride_Duration</th>\n",
       "      <th>Historical_Cost_of_Ride</th>\n",
       "    </tr>\n",
       "  </thead>\n",
       "  <tbody>\n",
       "    <tr>\n",
       "      <th>count</th>\n",
       "      <td>1000.000000</td>\n",
       "      <td>1000.000000</td>\n",
       "      <td>1000.000000</td>\n",
       "      <td>1000.000000</td>\n",
       "      <td>1000.00000</td>\n",
       "      <td>1000.000000</td>\n",
       "    </tr>\n",
       "    <tr>\n",
       "      <th>mean</th>\n",
       "      <td>60.372000</td>\n",
       "      <td>27.076000</td>\n",
       "      <td>50.031000</td>\n",
       "      <td>4.257220</td>\n",
       "      <td>99.58800</td>\n",
       "      <td>372.502623</td>\n",
       "    </tr>\n",
       "    <tr>\n",
       "      <th>std</th>\n",
       "      <td>23.701506</td>\n",
       "      <td>19.068346</td>\n",
       "      <td>29.313774</td>\n",
       "      <td>0.435781</td>\n",
       "      <td>49.16545</td>\n",
       "      <td>187.158756</td>\n",
       "    </tr>\n",
       "    <tr>\n",
       "      <th>min</th>\n",
       "      <td>20.000000</td>\n",
       "      <td>5.000000</td>\n",
       "      <td>0.000000</td>\n",
       "      <td>3.500000</td>\n",
       "      <td>10.00000</td>\n",
       "      <td>25.993449</td>\n",
       "    </tr>\n",
       "    <tr>\n",
       "      <th>25%</th>\n",
       "      <td>40.000000</td>\n",
       "      <td>11.000000</td>\n",
       "      <td>25.000000</td>\n",
       "      <td>3.870000</td>\n",
       "      <td>59.75000</td>\n",
       "      <td>221.365202</td>\n",
       "    </tr>\n",
       "    <tr>\n",
       "      <th>50%</th>\n",
       "      <td>60.000000</td>\n",
       "      <td>22.000000</td>\n",
       "      <td>51.000000</td>\n",
       "      <td>4.270000</td>\n",
       "      <td>102.00000</td>\n",
       "      <td>362.019426</td>\n",
       "    </tr>\n",
       "    <tr>\n",
       "      <th>75%</th>\n",
       "      <td>81.000000</td>\n",
       "      <td>38.000000</td>\n",
       "      <td>75.000000</td>\n",
       "      <td>4.632500</td>\n",
       "      <td>143.00000</td>\n",
       "      <td>510.497504</td>\n",
       "    </tr>\n",
       "    <tr>\n",
       "      <th>max</th>\n",
       "      <td>100.000000</td>\n",
       "      <td>89.000000</td>\n",
       "      <td>100.000000</td>\n",
       "      <td>5.000000</td>\n",
       "      <td>180.00000</td>\n",
       "      <td>836.116419</td>\n",
       "    </tr>\n",
       "  </tbody>\n",
       "</table>\n",
       "</div>"
      ],
      "text/plain": [
       "       Number_of_Riders  Number_of_Drivers  Number_of_Past_Rides  \\\n",
       "count       1000.000000        1000.000000           1000.000000   \n",
       "mean          60.372000          27.076000             50.031000   \n",
       "std           23.701506          19.068346             29.313774   \n",
       "min           20.000000           5.000000              0.000000   \n",
       "25%           40.000000          11.000000             25.000000   \n",
       "50%           60.000000          22.000000             51.000000   \n",
       "75%           81.000000          38.000000             75.000000   \n",
       "max          100.000000          89.000000            100.000000   \n",
       "\n",
       "       Average_Ratings  Expected_Ride_Duration  Historical_Cost_of_Ride  \n",
       "count      1000.000000              1000.00000              1000.000000  \n",
       "mean          4.257220                99.58800               372.502623  \n",
       "std           0.435781                49.16545               187.158756  \n",
       "min           3.500000                10.00000                25.993449  \n",
       "25%           3.870000                59.75000               221.365202  \n",
       "50%           4.270000               102.00000               362.019426  \n",
       "75%           4.632500               143.00000               510.497504  \n",
       "max           5.000000               180.00000               836.116419  "
      ]
     },
     "execution_count": 4,
     "metadata": {},
     "output_type": "execute_result"
    }
   ],
   "source": [
    "df.describe()"
   ]
  },
  {
   "cell_type": "code",
   "execution_count": 5,
   "id": "c1d1aa44",
   "metadata": {},
   "outputs": [
    {
     "data": {
      "application/vnd.plotly.v1+json": {
       "config": {
        "plotlyServerURL": "https://plot.ly"
       },
       "data": [
        {
         "hovertemplate": "Expected_Ride_Duration=%{x}<br>Historical_Cost_of_Ride=%{y}<extra></extra>",
         "legendgroup": "",
         "marker": {
          "color": "#636efa",
          "symbol": "circle"
         },
         "mode": "markers",
         "name": "",
         "orientation": "v",
         "showlegend": false,
         "type": "scatter",
         "x": {
          "bdata": "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",
          "dtype": "i2"
         },
         "xaxis": "x",
         "y": {
          "bdata": "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",
          "dtype": "f8"
         },
         "yaxis": "y"
        },
        {
         "hovertemplate": "<b>OLS trendline</b><br>Historical_Cost_of_Ride = 3.53091 * Expected_Ride_Duration + 20.8668<br>R<sup>2</sup>=0.860344<br><br>Expected_Ride_Duration=%{x}<br>Historical_Cost_of_Ride=%{y} <b>(trend)</b><extra></extra>",
         "legendgroup": "",
         "marker": {
          "color": "#636efa",
          "symbol": "circle"
         },
         "mode": "lines",
         "name": "",
         "showlegend": false,
         "type": "scatter",
         "x": {
          "bdata": "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",
          "dtype": "i2"
         },
         "xaxis": "x",
         "y": {
          "bdata": "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",
          "dtype": "f8"
         },
         "yaxis": "y"
        }
       ],
       "layout": {
        "legend": {
         "tracegroupgap": 0
        },
        "template": {
         "data": {
          "bar": [
           {
            "error_x": {
             "color": "#2a3f5f"
            },
            "error_y": {
             "color": "#2a3f5f"
            },
            "marker": {
             "line": {
              "color": "#E5ECF6",
              "width": 0.5
             },
             "pattern": {
              "fillmode": "overlay",
              "size": 10,
              "solidity": 0.2
             }
            },
            "type": "bar"
           }
          ],
          "barpolar": [
           {
            "marker": {
             "line": {
              "color": "#E5ECF6",
              "width": 0.5
             },
             "pattern": {
              "fillmode": "overlay",
              "size": 10,
              "solidity": 0.2
             }
            },
            "type": "barpolar"
           }
          ],
          "carpet": [
           {
            "aaxis": {
             "endlinecolor": "#2a3f5f",
             "gridcolor": "white",
             "linecolor": "white",
             "minorgridcolor": "white",
             "startlinecolor": "#2a3f5f"
            },
            "baxis": {
             "endlinecolor": "#2a3f5f",
             "gridcolor": "white",
             "linecolor": "white",
             "minorgridcolor": "white",
             "startlinecolor": "#2a3f5f"
            },
            "type": "carpet"
           }
          ],
          "choropleth": [
           {
            "colorbar": {
             "outlinewidth": 0,
             "ticks": ""
            },
            "type": "choropleth"
           }
          ],
          "contour": [
           {
            "colorbar": {
             "outlinewidth": 0,
             "ticks": ""
            },
            "colorscale": [
             [
              0,
              "#0d0887"
             ],
             [
              0.1111111111111111,
              "#46039f"
             ],
             [
              0.2222222222222222,
              "#7201a8"
             ],
             [
              0.3333333333333333,
              "#9c179e"
             ],
             [
              0.4444444444444444,
              "#bd3786"
             ],
             [
              0.5555555555555556,
              "#d8576b"
             ],
             [
              0.6666666666666666,
              "#ed7953"
             ],
             [
              0.7777777777777778,
              "#fb9f3a"
             ],
             [
              0.8888888888888888,
              "#fdca26"
             ],
             [
              1,
              "#f0f921"
             ]
            ],
            "type": "contour"
           }
          ],
          "contourcarpet": [
           {
            "colorbar": {
             "outlinewidth": 0,
             "ticks": ""
            },
            "type": "contourcarpet"
           }
          ],
          "heatmap": [
           {
            "colorbar": {
             "outlinewidth": 0,
             "ticks": ""
            },
            "colorscale": [
             [
              0,
              "#0d0887"
             ],
             [
              0.1111111111111111,
              "#46039f"
             ],
             [
              0.2222222222222222,
              "#7201a8"
             ],
             [
              0.3333333333333333,
              "#9c179e"
             ],
             [
              0.4444444444444444,
              "#bd3786"
             ],
             [
              0.5555555555555556,
              "#d8576b"
             ],
             [
              0.6666666666666666,
              "#ed7953"
             ],
             [
              0.7777777777777778,
              "#fb9f3a"
             ],
             [
              0.8888888888888888,
              "#fdca26"
             ],
             [
              1,
              "#f0f921"
             ]
            ],
            "type": "heatmap"
           }
          ],
          "histogram": [
           {
            "marker": {
             "pattern": {
              "fillmode": "overlay",
              "size": 10,
              "solidity": 0.2
             }
            },
            "type": "histogram"
           }
          ],
          "histogram2d": [
           {
            "colorbar": {
             "outlinewidth": 0,
             "ticks": ""
            },
            "colorscale": [
             [
              0,
              "#0d0887"
             ],
             [
              0.1111111111111111,
              "#46039f"
             ],
             [
              0.2222222222222222,
              "#7201a8"
             ],
             [
              0.3333333333333333,
              "#9c179e"
             ],
             [
              0.4444444444444444,
              "#bd3786"
             ],
             [
              0.5555555555555556,
              "#d8576b"
             ],
             [
              0.6666666666666666,
              "#ed7953"
             ],
             [
              0.7777777777777778,
              "#fb9f3a"
             ],
             [
              0.8888888888888888,
              "#fdca26"
             ],
             [
              1,
              "#f0f921"
             ]
            ],
            "type": "histogram2d"
           }
          ],
          "histogram2dcontour": [
           {
            "colorbar": {
             "outlinewidth": 0,
             "ticks": ""
            },
            "colorscale": [
             [
              0,
              "#0d0887"
             ],
             [
              0.1111111111111111,
              "#46039f"
             ],
             [
              0.2222222222222222,
              "#7201a8"
             ],
             [
              0.3333333333333333,
              "#9c179e"
             ],
             [
              0.4444444444444444,
              "#bd3786"
             ],
             [
              0.5555555555555556,
              "#d8576b"
             ],
             [
              0.6666666666666666,
              "#ed7953"
             ],
             [
              0.7777777777777778,
              "#fb9f3a"
             ],
             [
              0.8888888888888888,
              "#fdca26"
             ],
             [
              1,
              "#f0f921"
             ]
            ],
            "type": "histogram2dcontour"
           }
          ],
          "mesh3d": [
           {
            "colorbar": {
             "outlinewidth": 0,
             "ticks": ""
            },
            "type": "mesh3d"
           }
          ],
          "parcoords": [
           {
            "line": {
             "colorbar": {
              "outlinewidth": 0,
              "ticks": ""
             }
            },
            "type": "parcoords"
           }
          ],
          "pie": [
           {
            "automargin": true,
            "type": "pie"
           }
          ],
          "scatter": [
           {
            "fillpattern": {
             "fillmode": "overlay",
             "size": 10,
             "solidity": 0.2
            },
            "type": "scatter"
           }
          ],
          "scatter3d": [
           {
            "line": {
             "colorbar": {
              "outlinewidth": 0,
              "ticks": ""
             }
            },
            "marker": {
             "colorbar": {
              "outlinewidth": 0,
              "ticks": ""
             }
            },
            "type": "scatter3d"
           }
          ],
          "scattercarpet": [
           {
            "marker": {
             "colorbar": {
              "outlinewidth": 0,
              "ticks": ""
             }
            },
            "type": "scattercarpet"
           }
          ],
          "scattergeo": [
           {
            "marker": {
             "colorbar": {
              "outlinewidth": 0,
              "ticks": ""
             }
            },
            "type": "scattergeo"
           }
          ],
          "scattergl": [
           {
            "marker": {
             "colorbar": {
              "outlinewidth": 0,
              "ticks": ""
             }
            },
            "type": "scattergl"
           }
          ],
          "scattermap": [
           {
            "marker": {
             "colorbar": {
              "outlinewidth": 0,
              "ticks": ""
             }
            },
            "type": "scattermap"
           }
          ],
          "scattermapbox": [
           {
            "marker": {
             "colorbar": {
              "outlinewidth": 0,
              "ticks": ""
             }
            },
            "type": "scattermapbox"
           }
          ],
          "scatterpolar": [
           {
            "marker": {
             "colorbar": {
              "outlinewidth": 0,
              "ticks": ""
             }
            },
            "type": "scatterpolar"
           }
          ],
          "scatterpolargl": [
           {
            "marker": {
             "colorbar": {
              "outlinewidth": 0,
              "ticks": ""
             }
            },
            "type": "scatterpolargl"
           }
          ],
          "scatterternary": [
           {
            "marker": {
             "colorbar": {
              "outlinewidth": 0,
              "ticks": ""
             }
            },
            "type": "scatterternary"
           }
          ],
          "surface": [
           {
            "colorbar": {
             "outlinewidth": 0,
             "ticks": ""
            },
            "colorscale": [
             [
              0,
              "#0d0887"
             ],
             [
              0.1111111111111111,
              "#46039f"
             ],
             [
              0.2222222222222222,
              "#7201a8"
             ],
             [
              0.3333333333333333,
              "#9c179e"
             ],
             [
              0.4444444444444444,
              "#bd3786"
             ],
             [
              0.5555555555555556,
              "#d8576b"
             ],
             [
              0.6666666666666666,
              "#ed7953"
             ],
             [
              0.7777777777777778,
              "#fb9f3a"
             ],
             [
              0.8888888888888888,
              "#fdca26"
             ],
             [
              1,
              "#f0f921"
             ]
            ],
            "type": "surface"
           }
          ],
          "table": [
           {
            "cells": {
             "fill": {
              "color": "#EBF0F8"
             },
             "line": {
              "color": "white"
             }
            },
            "header": {
             "fill": {
              "color": "#C8D4E3"
             },
             "line": {
              "color": "white"
             }
            },
            "type": "table"
           }
          ]
         },
         "layout": {
          "annotationdefaults": {
           "arrowcolor": "#2a3f5f",
           "arrowhead": 0,
           "arrowwidth": 1
          },
          "autotypenumbers": "strict",
          "coloraxis": {
           "colorbar": {
            "outlinewidth": 0,
            "ticks": ""
           }
          },
          "colorscale": {
           "diverging": [
            [
             0,
             "#8e0152"
            ],
            [
             0.1,
             "#c51b7d"
            ],
            [
             0.2,
             "#de77ae"
            ],
            [
             0.3,
             "#f1b6da"
            ],
            [
             0.4,
             "#fde0ef"
            ],
            [
             0.5,
             "#f7f7f7"
            ],
            [
             0.6,
             "#e6f5d0"
            ],
            [
             0.7,
             "#b8e186"
            ],
            [
             0.8,
             "#7fbc41"
            ],
            [
             0.9,
             "#4d9221"
            ],
            [
             1,
             "#276419"
            ]
           ],
           "sequential": [
            [
             0,
             "#0d0887"
            ],
            [
             0.1111111111111111,
             "#46039f"
            ],
            [
             0.2222222222222222,
             "#7201a8"
            ],
            [
             0.3333333333333333,
             "#9c179e"
            ],
            [
             0.4444444444444444,
             "#bd3786"
            ],
            [
             0.5555555555555556,
             "#d8576b"
            ],
            [
             0.6666666666666666,
             "#ed7953"
            ],
            [
             0.7777777777777778,
             "#fb9f3a"
            ],
            [
             0.8888888888888888,
             "#fdca26"
            ],
            [
             1,
             "#f0f921"
            ]
           ],
           "sequentialminus": [
            [
             0,
             "#0d0887"
            ],
            [
             0.1111111111111111,
             "#46039f"
            ],
            [
             0.2222222222222222,
             "#7201a8"
            ],
            [
             0.3333333333333333,
             "#9c179e"
            ],
            [
             0.4444444444444444,
             "#bd3786"
            ],
            [
             0.5555555555555556,
             "#d8576b"
            ],
            [
             0.6666666666666666,
             "#ed7953"
            ],
            [
             0.7777777777777778,
             "#fb9f3a"
            ],
            [
             0.8888888888888888,
             "#fdca26"
            ],
            [
             1,
             "#f0f921"
            ]
           ]
          },
          "colorway": [
           "#636efa",
           "#EF553B",
           "#00cc96",
           "#ab63fa",
           "#FFA15A",
           "#19d3f3",
           "#FF6692",
           "#B6E880",
           "#FF97FF",
           "#FECB52"
          ],
          "font": {
           "color": "#2a3f5f"
          },
          "geo": {
           "bgcolor": "white",
           "lakecolor": "white",
           "landcolor": "#E5ECF6",
           "showlakes": true,
           "showland": true,
           "subunitcolor": "white"
          },
          "hoverlabel": {
           "align": "left"
          },
          "hovermode": "closest",
          "mapbox": {
           "style": "light"
          },
          "paper_bgcolor": "white",
          "plot_bgcolor": "#E5ECF6",
          "polar": {
           "angularaxis": {
            "gridcolor": "white",
            "linecolor": "white",
            "ticks": ""
           },
           "bgcolor": "#E5ECF6",
           "radialaxis": {
            "gridcolor": "white",
            "linecolor": "white",
            "ticks": ""
           }
          },
          "scene": {
           "xaxis": {
            "backgroundcolor": "#E5ECF6",
            "gridcolor": "white",
            "gridwidth": 2,
            "linecolor": "white",
            "showbackground": true,
            "ticks": "",
            "zerolinecolor": "white"
           },
           "yaxis": {
            "backgroundcolor": "#E5ECF6",
            "gridcolor": "white",
            "gridwidth": 2,
            "linecolor": "white",
            "showbackground": true,
            "ticks": "",
            "zerolinecolor": "white"
           },
           "zaxis": {
            "backgroundcolor": "#E5ECF6",
            "gridcolor": "white",
            "gridwidth": 2,
            "linecolor": "white",
            "showbackground": true,
            "ticks": "",
            "zerolinecolor": "white"
           }
          },
          "shapedefaults": {
           "line": {
            "color": "#2a3f5f"
           }
          },
          "ternary": {
           "aaxis": {
            "gridcolor": "white",
            "linecolor": "white",
            "ticks": ""
           },
           "baxis": {
            "gridcolor": "white",
            "linecolor": "white",
            "ticks": ""
           },
           "bgcolor": "#E5ECF6",
           "caxis": {
            "gridcolor": "white",
            "linecolor": "white",
            "ticks": ""
           }
          },
          "title": {
           "x": 0.05
          },
          "xaxis": {
           "automargin": true,
           "gridcolor": "white",
           "linecolor": "white",
           "ticks": "",
           "title": {
            "standoff": 15
           },
           "zerolinecolor": "white",
           "zerolinewidth": 2
          },
          "yaxis": {
           "automargin": true,
           "gridcolor": "white",
           "linecolor": "white",
           "ticks": "",
           "title": {
            "standoff": 15
           },
           "zerolinecolor": "white",
           "zerolinewidth": 2
          }
         }
        },
        "title": {
         "text": "Expected Ride Duration vs Historical Cost of Ride"
        },
        "xaxis": {
         "anchor": "y",
         "domain": [
          0,
          1
         ],
         "title": {
          "text": "Expected_Ride_Duration"
         }
        },
        "yaxis": {
         "anchor": "x",
         "domain": [
          0,
          1
         ],
         "title": {
          "text": "Historical_Cost_of_Ride"
         }
        }
       }
      }
     },
     "metadata": {},
     "output_type": "display_data"
    }
   ],
   "source": [
    "fig = px.scatter(df, x = 'Expected_Ride_Duration', y= 'Historical_Cost_of_Ride',\n",
    "                 title='Expected Ride Duration vs Historical Cost of Ride', trendline='ols')\n",
    "\n",
    "fig.show()"
   ]
  },
  {
   "cell_type": "code",
   "execution_count": 6,
   "id": "c6e3acd8",
   "metadata": {},
   "outputs": [
    {
     "data": {
      "application/vnd.plotly.v1+json": {
       "config": {
        "plotlyServerURL": "https://plot.ly"
       },
       "data": [
        {
         "alignmentgroup": "True",
         "hovertemplate": "Vehicle_Type=%{x}<br>Historical_Cost_of_Ride=%{y}<extra></extra>",
         "legendgroup": "",
         "marker": {
          "color": "#636efa"
         },
         "name": "",
         "notched": false,
         "offsetgroup": "",
         "orientation": "v",
         "showlegend": false,
         "type": "box",
         "x": [
          "Premium",
          "Economy",
          "Premium",
          "Premium",
          "Economy",
          "Economy",
          "Premium",
          "Premium",
          "Economy",
          "Premium",
          "Economy",
          "Premium",
          "Economy",
          "Premium",
          "Premium",
          "Premium",
          "Premium",
          "Economy",
          "Premium",
          "Premium",
          "Premium",
          "Economy",
          "Economy",
          "Premium",
          "Premium",
          "Economy",
          "Premium",
          "Economy",
          "Premium",
          "Premium",
          "Premium",
          "Premium",
          "Premium",
          "Premium",
          "Economy",
          "Premium",
          "Premium",
          "Premium",
          "Economy",
          "Premium",
          "Premium",
          "Economy",
          "Economy",
          "Premium",
          "Premium",
          "Economy",
          "Premium",
          "Premium",
          "Economy",
          "Economy",
          "Economy",
          "Economy",
          "Economy",
          "Premium",
          "Premium",
          "Premium",
          "Economy",
          "Premium",
          "Economy",
          "Economy",
          "Economy",
          "Premium",
          "Premium",
          "Premium",
          "Economy",
          "Premium",
          "Economy",
          "Economy",
          "Economy",
          "Premium",
          "Economy",
          "Economy",
          "Premium",
          "Premium",
          "Economy",
          "Economy",
          "Economy",
          "Economy",
          "Premium",
          "Premium",
          "Premium",
          "Premium",
          "Economy",
          "Premium",
          "Economy",
          "Premium",
          "Economy",
          "Premium",
          "Economy",
          "Economy",
          "Premium",
          "Premium",
          "Premium",
          "Premium",
          "Economy",
          "Premium",
          "Economy",
          "Economy",
          "Premium",
          "Economy",
          "Economy",
          "Economy",
          "Premium",
          "Premium",
          "Premium",
          "Premium",
          "Economy",
          "Economy",
          "Premium",
          "Premium",
          "Economy",
          "Economy",
          "Premium",
          "Premium",
          "Economy",
          "Premium",
          "Economy",
          "Premium",
          "Premium",
          "Economy",
          "Premium",
          "Economy",
          "Economy",
          "Premium",
          "Premium",
          "Premium",
          "Premium",
          "Economy",
          "Premium",
          "Premium",
          "Economy",
          "Economy",
          "Economy",
          "Economy",
          "Economy",
          "Premium",
          "Economy",
          "Premium",
          "Economy",
          "Premium",
          "Economy",
          "Economy",
          "Economy",
          "Economy",
          "Economy",
          "Premium",
          "Premium",
          "Economy",
          "Premium",
          "Economy",
          "Economy",
          "Economy",
          "Premium",
          "Premium",
          "Economy",
          "Economy",
          "Premium",
          "Premium",
          "Premium",
          "Premium",
          "Economy",
          "Premium",
          "Economy",
          "Economy",
          "Economy",
          "Economy",
          "Economy",
          "Premium",
          "Economy",
          "Premium",
          "Economy",
          "Economy",
          "Premium",
          "Economy",
          "Economy",
          "Economy",
          "Economy",
          "Economy",
          "Economy",
          "Economy",
          "Economy",
          "Economy",
          "Premium",
          "Premium",
          "Premium",
          "Economy",
          "Premium",
          "Premium",
          "Premium",
          "Premium",
          "Premium",
          "Premium",
          "Economy",
          "Premium",
          "Premium",
          "Economy",
          "Economy",
          "Economy",
          "Economy",
          "Premium",
          "Premium",
          "Economy",
          "Premium",
          "Premium",
          "Economy",
          "Economy",
          "Premium",
          "Premium",
          "Premium",
          "Economy",
          "Economy",
          "Premium",
          "Premium",
          "Economy",
          "Premium",
          "Premium",
          "Economy",
          "Economy",
          "Economy",
          "Economy",
          "Economy",
          "Premium",
          "Economy",
          "Premium",
          "Economy",
          "Premium",
          "Premium",
          "Premium",
          "Economy",
          "Premium",
          "Premium",
          "Premium",
          "Economy",
          "Premium",
          "Economy",
          "Economy",
          "Economy",
          "Economy",
          "Premium",
          "Economy",
          "Premium",
          "Premium",
          "Economy",
          "Economy",
          "Premium",
          "Premium",
          "Economy",
          "Economy",
          "Premium",
          "Premium",
          "Premium",
          "Premium",
          "Premium",
          "Economy",
          "Premium",
          "Premium",
          "Premium",
          "Premium",
          "Premium",
          "Premium",
          "Economy",
          "Economy",
          "Economy",
          "Economy",
          "Premium",
          "Premium",
          "Economy",
          "Premium",
          "Premium",
          "Premium",
          "Economy",
          "Premium",
          "Premium",
          "Premium",
          "Premium",
          "Premium",
          "Premium",
          "Premium",
          "Premium",
          "Economy",
          "Economy",
          "Premium",
          "Economy",
          "Premium",
          "Premium",
          "Premium",
          "Premium",
          "Economy",
          "Economy",
          "Economy",
          "Economy",
          "Economy",
          "Premium",
          "Economy",
          "Economy",
          "Economy",
          "Premium",
          "Premium",
          "Premium",
          "Economy",
          "Premium",
          "Economy",
          "Premium",
          "Economy",
          "Premium",
          "Premium",
          "Economy",
          "Premium",
          "Economy",
          "Premium",
          "Economy",
          "Premium",
          "Economy",
          "Economy",
          "Economy",
          "Premium",
          "Economy",
          "Economy",
          "Premium",
          "Premium",
          "Premium",
          "Premium",
          "Premium",
          "Economy",
          "Premium",
          "Premium",
          "Premium",
          "Premium",
          "Premium",
          "Economy",
          "Economy",
          "Premium",
          "Premium",
          "Premium",
          "Economy",
          "Premium",
          "Economy",
          "Premium",
          "Premium",
          "Premium",
          "Economy",
          "Economy",
          "Premium",
          "Premium",
          "Economy",
          "Economy",
          "Economy",
          "Premium",
          "Premium",
          "Premium",
          "Premium",
          "Premium",
          "Premium",
          "Premium",
          "Economy",
          "Economy",
          "Economy",
          "Premium",
          "Economy",
          "Premium",
          "Economy",
          "Premium",
          "Premium",
          "Economy",
          "Economy",
          "Premium",
          "Economy",
          "Premium",
          "Economy",
          "Economy",
          "Premium",
          "Premium",
          "Premium",
          "Economy",
          "Premium",
          "Premium",
          "Economy",
          "Economy",
          "Economy",
          "Economy",
          "Premium",
          "Economy",
          "Premium",
          "Economy",
          "Premium",
          "Premium",
          "Economy",
          "Premium",
          "Premium",
          "Economy",
          "Economy",
          "Economy",
          "Premium",
          "Premium",
          "Economy",
          "Economy",
          "Economy",
          "Economy",
          "Economy",
          "Economy",
          "Premium",
          "Premium",
          "Premium",
          "Economy",
          "Premium",
          "Economy",
          "Economy",
          "Economy",
          "Economy",
          "Premium",
          "Economy",
          "Premium",
          "Economy",
          "Premium",
          "Economy",
          "Premium",
          "Economy",
          "Premium",
          "Premium",
          "Premium",
          "Premium",
          "Economy",
          "Premium",
          "Economy",
          "Premium",
          "Economy",
          "Economy",
          "Economy",
          "Premium",
          "Economy",
          "Premium",
          "Economy",
          "Economy",
          "Premium",
          "Premium",
          "Premium",
          "Premium",
          "Premium",
          "Premium",
          "Economy",
          "Economy",
          "Premium",
          "Economy",
          "Economy",
          "Premium",
          "Premium",
          "Premium",
          "Economy",
          "Economy",
          "Premium",
          "Premium",
          "Economy",
          "Economy",
          "Economy",
          "Economy",
          "Premium",
          "Premium",
          "Premium",
          "Premium",
          "Premium",
          "Economy",
          "Premium",
          "Premium",
          "Premium",
          "Economy",
          "Economy",
          "Economy",
          "Economy",
          "Economy",
          "Economy",
          "Premium",
          "Premium",
          "Premium",
          "Economy",
          "Premium",
          "Premium",
          "Premium",
          "Economy",
          "Economy",
          "Economy",
          "Economy",
          "Premium",
          "Economy",
          "Premium",
          "Economy",
          "Premium",
          "Economy",
          "Premium",
          "Premium",
          "Economy",
          "Economy",
          "Premium",
          "Premium",
          "Economy",
          "Economy",
          "Premium",
          "Economy",
          "Premium",
          "Premium",
          "Premium",
          "Economy",
          "Economy",
          "Economy",
          "Premium",
          "Premium",
          "Economy",
          "Economy",
          "Economy",
          "Premium",
          "Premium",
          "Economy",
          "Premium",
          "Premium",
          "Premium",
          "Premium",
          "Economy",
          "Premium",
          "Premium",
          "Premium",
          "Economy",
          "Premium",
          "Economy",
          "Premium",
          "Premium",
          "Premium",
          "Economy",
          "Economy",
          "Economy",
          "Premium",
          "Premium",
          "Economy",
          "Economy",
          "Economy",
          "Economy",
          "Premium",
          "Premium",
          "Economy",
          "Economy",
          "Economy",
          "Economy",
          "Economy",
          "Premium",
          "Economy",
          "Premium",
          "Economy",
          "Economy",
          "Economy",
          "Economy",
          "Economy",
          "Economy",
          "Premium",
          "Economy",
          "Economy",
          "Premium",
          "Economy",
          "Economy",
          "Economy",
          "Economy",
          "Economy",
          "Premium",
          "Premium",
          "Economy",
          "Economy",
          "Economy",
          "Economy",
          "Premium",
          "Economy",
          "Economy",
          "Premium",
          "Premium",
          "Economy",
          "Economy",
          "Premium",
          "Economy",
          "Economy",
          "Economy",
          "Economy",
          "Premium",
          "Premium",
          "Economy",
          "Economy",
          "Economy",
          "Economy",
          "Premium",
          "Economy",
          "Premium",
          "Economy",
          "Economy",
          "Premium",
          "Economy",
          "Economy",
          "Economy",
          "Premium",
          "Economy",
          "Premium",
          "Economy",
          "Premium",
          "Economy",
          "Premium",
          "Economy",
          "Economy",
          "Premium",
          "Economy",
          "Premium",
          "Premium",
          "Premium",
          "Premium",
          "Economy",
          "Economy",
          "Premium",
          "Premium",
          "Economy",
          "Economy",
          "Premium",
          "Premium",
          "Economy",
          "Economy",
          "Premium",
          "Economy",
          "Premium",
          "Economy",
          "Premium",
          "Economy",
          "Premium",
          "Premium",
          "Premium",
          "Economy",
          "Economy",
          "Premium",
          "Economy",
          "Economy",
          "Premium",
          "Premium",
          "Economy",
          "Premium",
          "Economy",
          "Economy",
          "Premium",
          "Premium",
          "Premium",
          "Premium",
          "Economy",
          "Premium",
          "Premium",
          "Premium",
          "Premium",
          "Premium",
          "Economy",
          "Premium",
          "Economy",
          "Economy",
          "Premium",
          "Economy",
          "Premium",
          "Economy",
          "Economy",
          "Economy",
          "Economy",
          "Economy",
          "Economy",
          "Premium",
          "Premium",
          "Premium",
          "Premium",
          "Economy",
          "Premium",
          "Premium",
          "Economy",
          "Premium",
          "Economy",
          "Premium",
          "Economy",
          "Economy",
          "Premium",
          "Premium",
          "Economy",
          "Economy",
          "Economy",
          "Economy",
          "Economy",
          "Economy",
          "Premium",
          "Premium",
          "Economy",
          "Economy",
          "Economy",
          "Premium",
          "Premium",
          "Premium",
          "Premium",
          "Economy",
          "Economy",
          "Economy",
          "Premium",
          "Premium",
          "Economy",
          "Economy",
          "Economy",
          "Economy",
          "Premium",
          "Premium",
          "Economy",
          "Economy",
          "Premium",
          "Economy",
          "Economy",
          "Premium",
          "Premium",
          "Premium",
          "Economy",
          "Premium",
          "Premium",
          "Premium",
          "Economy",
          "Economy",
          "Premium",
          "Premium",
          "Economy",
          "Premium",
          "Premium",
          "Premium",
          "Premium",
          "Economy",
          "Premium",
          "Economy",
          "Economy",
          "Premium",
          "Economy",
          "Premium",
          "Premium",
          "Economy",
          "Premium",
          "Premium",
          "Economy",
          "Premium",
          "Economy",
          "Premium",
          "Economy",
          "Premium",
          "Premium",
          "Premium",
          "Premium",
          "Economy",
          "Premium",
          "Premium",
          "Premium",
          "Economy",
          "Premium",
          "Economy",
          "Premium",
          "Premium",
          "Premium",
          "Economy",
          "Economy",
          "Premium",
          "Economy",
          "Economy",
          "Premium",
          "Economy",
          "Premium",
          "Premium",
          "Economy",
          "Premium",
          "Premium",
          "Premium",
          "Premium",
          "Economy",
          "Premium",
          "Premium",
          "Economy",
          "Economy",
          "Economy",
          "Economy",
          "Economy",
          "Economy",
          "Premium",
          "Economy",
          "Economy",
          "Economy",
          "Economy",
          "Premium",
          "Economy",
          "Premium",
          "Premium",
          "Economy",
          "Premium",
          "Premium",
          "Economy",
          "Economy",
          "Premium",
          "Premium",
          "Economy",
          "Economy",
          "Premium",
          "Premium",
          "Premium",
          "Premium",
          "Premium",
          "Premium",
          "Economy",
          "Premium",
          "Premium",
          "Premium",
          "Economy",
          "Premium",
          "Premium",
          "Premium",
          "Economy",
          "Premium",
          "Premium",
          "Economy",
          "Premium",
          "Economy",
          "Economy",
          "Premium",
          "Economy",
          "Premium",
          "Economy",
          "Premium",
          "Economy",
          "Premium",
          "Economy",
          "Economy",
          "Economy",
          "Premium",
          "Economy",
          "Premium",
          "Premium",
          "Premium",
          "Premium",
          "Economy",
          "Economy",
          "Premium",
          "Premium",
          "Premium",
          "Premium",
          "Economy",
          "Premium",
          "Economy",
          "Economy",
          "Premium",
          "Premium",
          "Premium",
          "Economy",
          "Premium",
          "Economy",
          "Premium",
          "Premium",
          "Economy",
          "Economy",
          "Premium",
          "Premium",
          "Economy",
          "Premium",
          "Economy",
          "Economy",
          "Premium",
          "Economy",
          "Premium",
          "Premium",
          "Premium",
          "Premium",
          "Economy",
          "Premium",
          "Premium",
          "Economy",
          "Economy",
          "Premium",
          "Economy",
          "Premium",
          "Premium",
          "Premium",
          "Economy",
          "Economy",
          "Premium",
          "Premium",
          "Economy",
          "Economy",
          "Premium",
          "Premium",
          "Premium",
          "Economy",
          "Premium",
          "Premium",
          "Economy",
          "Premium",
          "Economy",
          "Premium",
          "Premium",
          "Premium",
          "Premium",
          "Premium",
          "Premium",
          "Premium",
          "Premium",
          "Economy",
          "Premium",
          "Economy",
          "Economy",
          "Economy",
          "Premium",
          "Premium",
          "Premium",
          "Economy",
          "Economy",
          "Premium",
          "Premium",
          "Premium",
          "Premium",
          "Premium",
          "Premium",
          "Premium",
          "Economy",
          "Economy",
          "Economy",
          "Economy",
          "Premium",
          "Premium",
          "Economy",
          "Economy",
          "Economy",
          "Economy",
          "Economy",
          "Economy",
          "Economy",
          "Premium",
          "Economy",
          "Premium",
          "Economy",
          "Economy",
          "Economy",
          "Premium",
          "Economy",
          "Premium",
          "Premium",
          "Premium",
          "Premium",
          "Premium",
          "Premium",
          "Premium",
          "Economy",
          "Premium",
          "Economy",
          "Premium",
          "Premium",
          "Economy",
          "Premium",
          "Economy",
          "Premium",
          "Premium",
          "Premium",
          "Economy",
          "Premium",
          "Economy",
          "Premium",
          "Premium",
          "Economy",
          "Economy",
          "Economy",
          "Economy",
          "Economy",
          "Economy",
          "Premium",
          "Premium",
          "Economy",
          "Premium",
          "Economy",
          "Premium",
          "Premium",
          "Premium",
          "Premium",
          "Economy",
          "Premium",
          "Economy",
          "Premium",
          "Economy",
          "Economy",
          "Economy",
          "Economy",
          "Economy",
          "Economy",
          "Economy",
          "Premium",
          "Premium",
          "Premium",
          "Economy",
          "Premium",
          "Premium",
          "Economy",
          "Economy",
          "Economy",
          "Economy",
          "Premium",
          "Economy",
          "Premium",
          "Premium",
          "Premium",
          "Premium",
          "Premium",
          "Economy"
         ],
         "x0": " ",
         "xaxis": "x",
         "y": {
          "bdata": "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",
          "dtype": "f8"
         },
         "y0": " ",
         "yaxis": "y"
        }
       ],
       "layout": {
        "boxmode": "group",
        "legend": {
         "tracegroupgap": 0
        },
        "template": {
         "data": {
          "bar": [
           {
            "error_x": {
             "color": "#2a3f5f"
            },
            "error_y": {
             "color": "#2a3f5f"
            },
            "marker": {
             "line": {
              "color": "#E5ECF6",
              "width": 0.5
             },
             "pattern": {
              "fillmode": "overlay",
              "size": 10,
              "solidity": 0.2
             }
            },
            "type": "bar"
           }
          ],
          "barpolar": [
           {
            "marker": {
             "line": {
              "color": "#E5ECF6",
              "width": 0.5
             },
             "pattern": {
              "fillmode": "overlay",
              "size": 10,
              "solidity": 0.2
             }
            },
            "type": "barpolar"
           }
          ],
          "carpet": [
           {
            "aaxis": {
             "endlinecolor": "#2a3f5f",
             "gridcolor": "white",
             "linecolor": "white",
             "minorgridcolor": "white",
             "startlinecolor": "#2a3f5f"
            },
            "baxis": {
             "endlinecolor": "#2a3f5f",
             "gridcolor": "white",
             "linecolor": "white",
             "minorgridcolor": "white",
             "startlinecolor": "#2a3f5f"
            },
            "type": "carpet"
           }
          ],
          "choropleth": [
           {
            "colorbar": {
             "outlinewidth": 0,
             "ticks": ""
            },
            "type": "choropleth"
           }
          ],
          "contour": [
           {
            "colorbar": {
             "outlinewidth": 0,
             "ticks": ""
            },
            "colorscale": [
             [
              0,
              "#0d0887"
             ],
             [
              0.1111111111111111,
              "#46039f"
             ],
             [
              0.2222222222222222,
              "#7201a8"
             ],
             [
              0.3333333333333333,
              "#9c179e"
             ],
             [
              0.4444444444444444,
              "#bd3786"
             ],
             [
              0.5555555555555556,
              "#d8576b"
             ],
             [
              0.6666666666666666,
              "#ed7953"
             ],
             [
              0.7777777777777778,
              "#fb9f3a"
             ],
             [
              0.8888888888888888,
              "#fdca26"
             ],
             [
              1,
              "#f0f921"
             ]
            ],
            "type": "contour"
           }
          ],
          "contourcarpet": [
           {
            "colorbar": {
             "outlinewidth": 0,
             "ticks": ""
            },
            "type": "contourcarpet"
           }
          ],
          "heatmap": [
           {
            "colorbar": {
             "outlinewidth": 0,
             "ticks": ""
            },
            "colorscale": [
             [
              0,
              "#0d0887"
             ],
             [
              0.1111111111111111,
              "#46039f"
             ],
             [
              0.2222222222222222,
              "#7201a8"
             ],
             [
              0.3333333333333333,
              "#9c179e"
             ],
             [
              0.4444444444444444,
              "#bd3786"
             ],
             [
              0.5555555555555556,
              "#d8576b"
             ],
             [
              0.6666666666666666,
              "#ed7953"
             ],
             [
              0.7777777777777778,
              "#fb9f3a"
             ],
             [
              0.8888888888888888,
              "#fdca26"
             ],
             [
              1,
              "#f0f921"
             ]
            ],
            "type": "heatmap"
           }
          ],
          "histogram": [
           {
            "marker": {
             "pattern": {
              "fillmode": "overlay",
              "size": 10,
              "solidity": 0.2
             }
            },
            "type": "histogram"
           }
          ],
          "histogram2d": [
           {
            "colorbar": {
             "outlinewidth": 0,
             "ticks": ""
            },
            "colorscale": [
             [
              0,
              "#0d0887"
             ],
             [
              0.1111111111111111,
              "#46039f"
             ],
             [
              0.2222222222222222,
              "#7201a8"
             ],
             [
              0.3333333333333333,
              "#9c179e"
             ],
             [
              0.4444444444444444,
              "#bd3786"
             ],
             [
              0.5555555555555556,
              "#d8576b"
             ],
             [
              0.6666666666666666,
              "#ed7953"
             ],
             [
              0.7777777777777778,
              "#fb9f3a"
             ],
             [
              0.8888888888888888,
              "#fdca26"
             ],
             [
              1,
              "#f0f921"
             ]
            ],
            "type": "histogram2d"
           }
          ],
          "histogram2dcontour": [
           {
            "colorbar": {
             "outlinewidth": 0,
             "ticks": ""
            },
            "colorscale": [
             [
              0,
              "#0d0887"
             ],
             [
              0.1111111111111111,
              "#46039f"
             ],
             [
              0.2222222222222222,
              "#7201a8"
             ],
             [
              0.3333333333333333,
              "#9c179e"
             ],
             [
              0.4444444444444444,
              "#bd3786"
             ],
             [
              0.5555555555555556,
              "#d8576b"
             ],
             [
              0.6666666666666666,
              "#ed7953"
             ],
             [
              0.7777777777777778,
              "#fb9f3a"
             ],
             [
              0.8888888888888888,
              "#fdca26"
             ],
             [
              1,
              "#f0f921"
             ]
            ],
            "type": "histogram2dcontour"
           }
          ],
          "mesh3d": [
           {
            "colorbar": {
             "outlinewidth": 0,
             "ticks": ""
            },
            "type": "mesh3d"
           }
          ],
          "parcoords": [
           {
            "line": {
             "colorbar": {
              "outlinewidth": 0,
              "ticks": ""
             }
            },
            "type": "parcoords"
           }
          ],
          "pie": [
           {
            "automargin": true,
            "type": "pie"
           }
          ],
          "scatter": [
           {
            "fillpattern": {
             "fillmode": "overlay",
             "size": 10,
             "solidity": 0.2
            },
            "type": "scatter"
           }
          ],
          "scatter3d": [
           {
            "line": {
             "colorbar": {
              "outlinewidth": 0,
              "ticks": ""
             }
            },
            "marker": {
             "colorbar": {
              "outlinewidth": 0,
              "ticks": ""
             }
            },
            "type": "scatter3d"
           }
          ],
          "scattercarpet": [
           {
            "marker": {
             "colorbar": {
              "outlinewidth": 0,
              "ticks": ""
             }
            },
            "type": "scattercarpet"
           }
          ],
          "scattergeo": [
           {
            "marker": {
             "colorbar": {
              "outlinewidth": 0,
              "ticks": ""
             }
            },
            "type": "scattergeo"
           }
          ],
          "scattergl": [
           {
            "marker": {
             "colorbar": {
              "outlinewidth": 0,
              "ticks": ""
             }
            },
            "type": "scattergl"
           }
          ],
          "scattermap": [
           {
            "marker": {
             "colorbar": {
              "outlinewidth": 0,
              "ticks": ""
             }
            },
            "type": "scattermap"
           }
          ],
          "scattermapbox": [
           {
            "marker": {
             "colorbar": {
              "outlinewidth": 0,
              "ticks": ""
             }
            },
            "type": "scattermapbox"
           }
          ],
          "scatterpolar": [
           {
            "marker": {
             "colorbar": {
              "outlinewidth": 0,
              "ticks": ""
             }
            },
            "type": "scatterpolar"
           }
          ],
          "scatterpolargl": [
           {
            "marker": {
             "colorbar": {
              "outlinewidth": 0,
              "ticks": ""
             }
            },
            "type": "scatterpolargl"
           }
          ],
          "scatterternary": [
           {
            "marker": {
             "colorbar": {
              "outlinewidth": 0,
              "ticks": ""
             }
            },
            "type": "scatterternary"
           }
          ],
          "surface": [
           {
            "colorbar": {
             "outlinewidth": 0,
             "ticks": ""
            },
            "colorscale": [
             [
              0,
              "#0d0887"
             ],
             [
              0.1111111111111111,
              "#46039f"
             ],
             [
              0.2222222222222222,
              "#7201a8"
             ],
             [
              0.3333333333333333,
              "#9c179e"
             ],
             [
              0.4444444444444444,
              "#bd3786"
             ],
             [
              0.5555555555555556,
              "#d8576b"
             ],
             [
              0.6666666666666666,
              "#ed7953"
             ],
             [
              0.7777777777777778,
              "#fb9f3a"
             ],
             [
              0.8888888888888888,
              "#fdca26"
             ],
             [
              1,
              "#f0f921"
             ]
            ],
            "type": "surface"
           }
          ],
          "table": [
           {
            "cells": {
             "fill": {
              "color": "#EBF0F8"
             },
             "line": {
              "color": "white"
             }
            },
            "header": {
             "fill": {
              "color": "#C8D4E3"
             },
             "line": {
              "color": "white"
             }
            },
            "type": "table"
           }
          ]
         },
         "layout": {
          "annotationdefaults": {
           "arrowcolor": "#2a3f5f",
           "arrowhead": 0,
           "arrowwidth": 1
          },
          "autotypenumbers": "strict",
          "coloraxis": {
           "colorbar": {
            "outlinewidth": 0,
            "ticks": ""
           }
          },
          "colorscale": {
           "diverging": [
            [
             0,
             "#8e0152"
            ],
            [
             0.1,
             "#c51b7d"
            ],
            [
             0.2,
             "#de77ae"
            ],
            [
             0.3,
             "#f1b6da"
            ],
            [
             0.4,
             "#fde0ef"
            ],
            [
             0.5,
             "#f7f7f7"
            ],
            [
             0.6,
             "#e6f5d0"
            ],
            [
             0.7,
             "#b8e186"
            ],
            [
             0.8,
             "#7fbc41"
            ],
            [
             0.9,
             "#4d9221"
            ],
            [
             1,
             "#276419"
            ]
           ],
           "sequential": [
            [
             0,
             "#0d0887"
            ],
            [
             0.1111111111111111,
             "#46039f"
            ],
            [
             0.2222222222222222,
             "#7201a8"
            ],
            [
             0.3333333333333333,
             "#9c179e"
            ],
            [
             0.4444444444444444,
             "#bd3786"
            ],
            [
             0.5555555555555556,
             "#d8576b"
            ],
            [
             0.6666666666666666,
             "#ed7953"
            ],
            [
             0.7777777777777778,
             "#fb9f3a"
            ],
            [
             0.8888888888888888,
             "#fdca26"
            ],
            [
             1,
             "#f0f921"
            ]
           ],
           "sequentialminus": [
            [
             0,
             "#0d0887"
            ],
            [
             0.1111111111111111,
             "#46039f"
            ],
            [
             0.2222222222222222,
             "#7201a8"
            ],
            [
             0.3333333333333333,
             "#9c179e"
            ],
            [
             0.4444444444444444,
             "#bd3786"
            ],
            [
             0.5555555555555556,
             "#d8576b"
            ],
            [
             0.6666666666666666,
             "#ed7953"
            ],
            [
             0.7777777777777778,
             "#fb9f3a"
            ],
            [
             0.8888888888888888,
             "#fdca26"
            ],
            [
             1,
             "#f0f921"
            ]
           ]
          },
          "colorway": [
           "#636efa",
           "#EF553B",
           "#00cc96",
           "#ab63fa",
           "#FFA15A",
           "#19d3f3",
           "#FF6692",
           "#B6E880",
           "#FF97FF",
           "#FECB52"
          ],
          "font": {
           "color": "#2a3f5f"
          },
          "geo": {
           "bgcolor": "white",
           "lakecolor": "white",
           "landcolor": "#E5ECF6",
           "showlakes": true,
           "showland": true,
           "subunitcolor": "white"
          },
          "hoverlabel": {
           "align": "left"
          },
          "hovermode": "closest",
          "mapbox": {
           "style": "light"
          },
          "paper_bgcolor": "white",
          "plot_bgcolor": "#E5ECF6",
          "polar": {
           "angularaxis": {
            "gridcolor": "white",
            "linecolor": "white",
            "ticks": ""
           },
           "bgcolor": "#E5ECF6",
           "radialaxis": {
            "gridcolor": "white",
            "linecolor": "white",
            "ticks": ""
           }
          },
          "scene": {
           "xaxis": {
            "backgroundcolor": "#E5ECF6",
            "gridcolor": "white",
            "gridwidth": 2,
            "linecolor": "white",
            "showbackground": true,
            "ticks": "",
            "zerolinecolor": "white"
           },
           "yaxis": {
            "backgroundcolor": "#E5ECF6",
            "gridcolor": "white",
            "gridwidth": 2,
            "linecolor": "white",
            "showbackground": true,
            "ticks": "",
            "zerolinecolor": "white"
           },
           "zaxis": {
            "backgroundcolor": "#E5ECF6",
            "gridcolor": "white",
            "gridwidth": 2,
            "linecolor": "white",
            "showbackground": true,
            "ticks": "",
            "zerolinecolor": "white"
           }
          },
          "shapedefaults": {
           "line": {
            "color": "#2a3f5f"
           }
          },
          "ternary": {
           "aaxis": {
            "gridcolor": "white",
            "linecolor": "white",
            "ticks": ""
           },
           "baxis": {
            "gridcolor": "white",
            "linecolor": "white",
            "ticks": ""
           },
           "bgcolor": "#E5ECF6",
           "caxis": {
            "gridcolor": "white",
            "linecolor": "white",
            "ticks": ""
           }
          },
          "title": {
           "x": 0.05
          },
          "xaxis": {
           "automargin": true,
           "gridcolor": "white",
           "linecolor": "white",
           "ticks": "",
           "title": {
            "standoff": 15
           },
           "zerolinecolor": "white",
           "zerolinewidth": 2
          },
          "yaxis": {
           "automargin": true,
           "gridcolor": "white",
           "linecolor": "white",
           "ticks": "",
           "title": {
            "standoff": 15
           },
           "zerolinecolor": "white",
           "zerolinewidth": 2
          }
         }
        },
        "title": {
         "text": "Historical Cost of Ride by Vehicle Type"
        },
        "xaxis": {
         "anchor": "y",
         "domain": [
          0,
          1
         ],
         "title": {
          "text": "Vehicle_Type"
         }
        },
        "yaxis": {
         "anchor": "x",
         "domain": [
          0,
          1
         ],
         "title": {
          "text": "Historical_Cost_of_Ride"
         }
        }
       }
      }
     },
     "metadata": {},
     "output_type": "display_data"
    }
   ],
   "source": [
    "fig = px.box(df, x='Vehicle_Type', y='Historical_Cost_of_Ride',\n",
    "             title='Historical Cost of Ride by Vehicle Type')\n",
    "\n",
    "fig.show()"
   ]
  },
  {
   "cell_type": "code",
   "execution_count": 9,
   "id": "ef6e13ed",
   "metadata": {},
   "outputs": [],
   "source": [
    "corr_matrix = df.select_dtypes(include=['float64', 'int64']).corr()\n"
   ]
  },
  {
   "cell_type": "code",
   "execution_count": 10,
   "id": "f3bce4a4",
   "metadata": {},
   "outputs": [
    {
     "data": {
      "application/vnd.plotly.v1+json": {
       "config": {
        "plotlyServerURL": "https://plot.ly"
       },
       "data": [
        {
         "colorscale": [
          [
           0,
           "#440154"
          ],
          [
           0.1111111111111111,
           "#482878"
          ],
          [
           0.2222222222222222,
           "#3e4989"
          ],
          [
           0.3333333333333333,
           "#31688e"
          ],
          [
           0.4444444444444444,
           "#26828e"
          ],
          [
           0.5555555555555556,
           "#1f9e89"
          ],
          [
           0.6666666666666666,
           "#35b779"
          ],
          [
           0.7777777777777778,
           "#6ece58"
          ],
          [
           0.8888888888888888,
           "#b5de2b"
          ],
          [
           1,
           "#fde725"
          ]
         ],
         "type": "heatmap",
         "x": [
          "Number_of_Riders",
          "Number_of_Drivers",
          "Number_of_Past_Rides",
          "Average_Ratings",
          "Expected_Ride_Duration",
          "Historical_Cost_of_Ride"
         ],
         "y": [
          "Number_of_Riders",
          "Number_of_Drivers",
          "Number_of_Past_Rides",
          "Average_Ratings",
          "Expected_Ride_Duration",
          "Historical_Cost_of_Ride"
         ],
         "z": {
          "bdata": "AAAAAAAA8D891miUhBDkP2zmhHSp950/vFVvfvaNgT9YnWr9njyQv1JQzpKw3Hc/PdZolIQQ5D8AAAAAAADwP4jgdv1fTqQ/+No3OMEYpT/hg49o7ACZv5UXHY/dfZE/bOaEdKn3nT+I4Hb9X06kPwAAAAAAAPA/V4zaR2CSsL9K+Sx6QGqfPxpdEx0RXKI/vFVvfvaNgT/42jc4wRilP1eM2kdgkrC/AAAAAAAA8D8Ye9uuGWCRv5Uwhpv6a1G/WJ1q/Z48kL/hg49o7ACZv0r5LHpAap8/GHvbrhlgkb8AAAAAAADwP0XIRG53ru0/UlDOkrDcdz+VFx2P3X2RPxpdEx0RXKI/lTCGm/prUb9FyERud67tPwAAAAAAAPA/",
          "dtype": "f8",
          "shape": "6, 6"
         }
        }
       ],
       "layout": {
        "template": {
         "data": {
          "bar": [
           {
            "error_x": {
             "color": "#2a3f5f"
            },
            "error_y": {
             "color": "#2a3f5f"
            },
            "marker": {
             "line": {
              "color": "#E5ECF6",
              "width": 0.5
             },
             "pattern": {
              "fillmode": "overlay",
              "size": 10,
              "solidity": 0.2
             }
            },
            "type": "bar"
           }
          ],
          "barpolar": [
           {
            "marker": {
             "line": {
              "color": "#E5ECF6",
              "width": 0.5
             },
             "pattern": {
              "fillmode": "overlay",
              "size": 10,
              "solidity": 0.2
             }
            },
            "type": "barpolar"
           }
          ],
          "carpet": [
           {
            "aaxis": {
             "endlinecolor": "#2a3f5f",
             "gridcolor": "white",
             "linecolor": "white",
             "minorgridcolor": "white",
             "startlinecolor": "#2a3f5f"
            },
            "baxis": {
             "endlinecolor": "#2a3f5f",
             "gridcolor": "white",
             "linecolor": "white",
             "minorgridcolor": "white",
             "startlinecolor": "#2a3f5f"
            },
            "type": "carpet"
           }
          ],
          "choropleth": [
           {
            "colorbar": {
             "outlinewidth": 0,
             "ticks": ""
            },
            "type": "choropleth"
           }
          ],
          "contour": [
           {
            "colorbar": {
             "outlinewidth": 0,
             "ticks": ""
            },
            "colorscale": [
             [
              0,
              "#0d0887"
             ],
             [
              0.1111111111111111,
              "#46039f"
             ],
             [
              0.2222222222222222,
              "#7201a8"
             ],
             [
              0.3333333333333333,
              "#9c179e"
             ],
             [
              0.4444444444444444,
              "#bd3786"
             ],
             [
              0.5555555555555556,
              "#d8576b"
             ],
             [
              0.6666666666666666,
              "#ed7953"
             ],
             [
              0.7777777777777778,
              "#fb9f3a"
             ],
             [
              0.8888888888888888,
              "#fdca26"
             ],
             [
              1,
              "#f0f921"
             ]
            ],
            "type": "contour"
           }
          ],
          "contourcarpet": [
           {
            "colorbar": {
             "outlinewidth": 0,
             "ticks": ""
            },
            "type": "contourcarpet"
           }
          ],
          "heatmap": [
           {
            "colorbar": {
             "outlinewidth": 0,
             "ticks": ""
            },
            "colorscale": [
             [
              0,
              "#0d0887"
             ],
             [
              0.1111111111111111,
              "#46039f"
             ],
             [
              0.2222222222222222,
              "#7201a8"
             ],
             [
              0.3333333333333333,
              "#9c179e"
             ],
             [
              0.4444444444444444,
              "#bd3786"
             ],
             [
              0.5555555555555556,
              "#d8576b"
             ],
             [
              0.6666666666666666,
              "#ed7953"
             ],
             [
              0.7777777777777778,
              "#fb9f3a"
             ],
             [
              0.8888888888888888,
              "#fdca26"
             ],
             [
              1,
              "#f0f921"
             ]
            ],
            "type": "heatmap"
           }
          ],
          "histogram": [
           {
            "marker": {
             "pattern": {
              "fillmode": "overlay",
              "size": 10,
              "solidity": 0.2
             }
            },
            "type": "histogram"
           }
          ],
          "histogram2d": [
           {
            "colorbar": {
             "outlinewidth": 0,
             "ticks": ""
            },
            "colorscale": [
             [
              0,
              "#0d0887"
             ],
             [
              0.1111111111111111,
              "#46039f"
             ],
             [
              0.2222222222222222,
              "#7201a8"
             ],
             [
              0.3333333333333333,
              "#9c179e"
             ],
             [
              0.4444444444444444,
              "#bd3786"
             ],
             [
              0.5555555555555556,
              "#d8576b"
             ],
             [
              0.6666666666666666,
              "#ed7953"
             ],
             [
              0.7777777777777778,
              "#fb9f3a"
             ],
             [
              0.8888888888888888,
              "#fdca26"
             ],
             [
              1,
              "#f0f921"
             ]
            ],
            "type": "histogram2d"
           }
          ],
          "histogram2dcontour": [
           {
            "colorbar": {
             "outlinewidth": 0,
             "ticks": ""
            },
            "colorscale": [
             [
              0,
              "#0d0887"
             ],
             [
              0.1111111111111111,
              "#46039f"
             ],
             [
              0.2222222222222222,
              "#7201a8"
             ],
             [
              0.3333333333333333,
              "#9c179e"
             ],
             [
              0.4444444444444444,
              "#bd3786"
             ],
             [
              0.5555555555555556,
              "#d8576b"
             ],
             [
              0.6666666666666666,
              "#ed7953"
             ],
             [
              0.7777777777777778,
              "#fb9f3a"
             ],
             [
              0.8888888888888888,
              "#fdca26"
             ],
             [
              1,
              "#f0f921"
             ]
            ],
            "type": "histogram2dcontour"
           }
          ],
          "mesh3d": [
           {
            "colorbar": {
             "outlinewidth": 0,
             "ticks": ""
            },
            "type": "mesh3d"
           }
          ],
          "parcoords": [
           {
            "line": {
             "colorbar": {
              "outlinewidth": 0,
              "ticks": ""
             }
            },
            "type": "parcoords"
           }
          ],
          "pie": [
           {
            "automargin": true,
            "type": "pie"
           }
          ],
          "scatter": [
           {
            "fillpattern": {
             "fillmode": "overlay",
             "size": 10,
             "solidity": 0.2
            },
            "type": "scatter"
           }
          ],
          "scatter3d": [
           {
            "line": {
             "colorbar": {
              "outlinewidth": 0,
              "ticks": ""
             }
            },
            "marker": {
             "colorbar": {
              "outlinewidth": 0,
              "ticks": ""
             }
            },
            "type": "scatter3d"
           }
          ],
          "scattercarpet": [
           {
            "marker": {
             "colorbar": {
              "outlinewidth": 0,
              "ticks": ""
             }
            },
            "type": "scattercarpet"
           }
          ],
          "scattergeo": [
           {
            "marker": {
             "colorbar": {
              "outlinewidth": 0,
              "ticks": ""
             }
            },
            "type": "scattergeo"
           }
          ],
          "scattergl": [
           {
            "marker": {
             "colorbar": {
              "outlinewidth": 0,
              "ticks": ""
             }
            },
            "type": "scattergl"
           }
          ],
          "scattermap": [
           {
            "marker": {
             "colorbar": {
              "outlinewidth": 0,
              "ticks": ""
             }
            },
            "type": "scattermap"
           }
          ],
          "scattermapbox": [
           {
            "marker": {
             "colorbar": {
              "outlinewidth": 0,
              "ticks": ""
             }
            },
            "type": "scattermapbox"
           }
          ],
          "scatterpolar": [
           {
            "marker": {
             "colorbar": {
              "outlinewidth": 0,
              "ticks": ""
             }
            },
            "type": "scatterpolar"
           }
          ],
          "scatterpolargl": [
           {
            "marker": {
             "colorbar": {
              "outlinewidth": 0,
              "ticks": ""
             }
            },
            "type": "scatterpolargl"
           }
          ],
          "scatterternary": [
           {
            "marker": {
             "colorbar": {
              "outlinewidth": 0,
              "ticks": ""
             }
            },
            "type": "scatterternary"
           }
          ],
          "surface": [
           {
            "colorbar": {
             "outlinewidth": 0,
             "ticks": ""
            },
            "colorscale": [
             [
              0,
              "#0d0887"
             ],
             [
              0.1111111111111111,
              "#46039f"
             ],
             [
              0.2222222222222222,
              "#7201a8"
             ],
             [
              0.3333333333333333,
              "#9c179e"
             ],
             [
              0.4444444444444444,
              "#bd3786"
             ],
             [
              0.5555555555555556,
              "#d8576b"
             ],
             [
              0.6666666666666666,
              "#ed7953"
             ],
             [
              0.7777777777777778,
              "#fb9f3a"
             ],
             [
              0.8888888888888888,
              "#fdca26"
             ],
             [
              1,
              "#f0f921"
             ]
            ],
            "type": "surface"
           }
          ],
          "table": [
           {
            "cells": {
             "fill": {
              "color": "#EBF0F8"
             },
             "line": {
              "color": "white"
             }
            },
            "header": {
             "fill": {
              "color": "#C8D4E3"
             },
             "line": {
              "color": "white"
             }
            },
            "type": "table"
           }
          ]
         },
         "layout": {
          "annotationdefaults": {
           "arrowcolor": "#2a3f5f",
           "arrowhead": 0,
           "arrowwidth": 1
          },
          "autotypenumbers": "strict",
          "coloraxis": {
           "colorbar": {
            "outlinewidth": 0,
            "ticks": ""
           }
          },
          "colorscale": {
           "diverging": [
            [
             0,
             "#8e0152"
            ],
            [
             0.1,
             "#c51b7d"
            ],
            [
             0.2,
             "#de77ae"
            ],
            [
             0.3,
             "#f1b6da"
            ],
            [
             0.4,
             "#fde0ef"
            ],
            [
             0.5,
             "#f7f7f7"
            ],
            [
             0.6,
             "#e6f5d0"
            ],
            [
             0.7,
             "#b8e186"
            ],
            [
             0.8,
             "#7fbc41"
            ],
            [
             0.9,
             "#4d9221"
            ],
            [
             1,
             "#276419"
            ]
           ],
           "sequential": [
            [
             0,
             "#0d0887"
            ],
            [
             0.1111111111111111,
             "#46039f"
            ],
            [
             0.2222222222222222,
             "#7201a8"
            ],
            [
             0.3333333333333333,
             "#9c179e"
            ],
            [
             0.4444444444444444,
             "#bd3786"
            ],
            [
             0.5555555555555556,
             "#d8576b"
            ],
            [
             0.6666666666666666,
             "#ed7953"
            ],
            [
             0.7777777777777778,
             "#fb9f3a"
            ],
            [
             0.8888888888888888,
             "#fdca26"
            ],
            [
             1,
             "#f0f921"
            ]
           ],
           "sequentialminus": [
            [
             0,
             "#0d0887"
            ],
            [
             0.1111111111111111,
             "#46039f"
            ],
            [
             0.2222222222222222,
             "#7201a8"
            ],
            [
             0.3333333333333333,
             "#9c179e"
            ],
            [
             0.4444444444444444,
             "#bd3786"
            ],
            [
             0.5555555555555556,
             "#d8576b"
            ],
            [
             0.6666666666666666,
             "#ed7953"
            ],
            [
             0.7777777777777778,
             "#fb9f3a"
            ],
            [
             0.8888888888888888,
             "#fdca26"
            ],
            [
             1,
             "#f0f921"
            ]
           ]
          },
          "colorway": [
           "#636efa",
           "#EF553B",
           "#00cc96",
           "#ab63fa",
           "#FFA15A",
           "#19d3f3",
           "#FF6692",
           "#B6E880",
           "#FF97FF",
           "#FECB52"
          ],
          "font": {
           "color": "#2a3f5f"
          },
          "geo": {
           "bgcolor": "white",
           "lakecolor": "white",
           "landcolor": "#E5ECF6",
           "showlakes": true,
           "showland": true,
           "subunitcolor": "white"
          },
          "hoverlabel": {
           "align": "left"
          },
          "hovermode": "closest",
          "mapbox": {
           "style": "light"
          },
          "paper_bgcolor": "white",
          "plot_bgcolor": "#E5ECF6",
          "polar": {
           "angularaxis": {
            "gridcolor": "white",
            "linecolor": "white",
            "ticks": ""
           },
           "bgcolor": "#E5ECF6",
           "radialaxis": {
            "gridcolor": "white",
            "linecolor": "white",
            "ticks": ""
           }
          },
          "scene": {
           "xaxis": {
            "backgroundcolor": "#E5ECF6",
            "gridcolor": "white",
            "gridwidth": 2,
            "linecolor": "white",
            "showbackground": true,
            "ticks": "",
            "zerolinecolor": "white"
           },
           "yaxis": {
            "backgroundcolor": "#E5ECF6",
            "gridcolor": "white",
            "gridwidth": 2,
            "linecolor": "white",
            "showbackground": true,
            "ticks": "",
            "zerolinecolor": "white"
           },
           "zaxis": {
            "backgroundcolor": "#E5ECF6",
            "gridcolor": "white",
            "gridwidth": 2,
            "linecolor": "white",
            "showbackground": true,
            "ticks": "",
            "zerolinecolor": "white"
           }
          },
          "shapedefaults": {
           "line": {
            "color": "#2a3f5f"
           }
          },
          "ternary": {
           "aaxis": {
            "gridcolor": "white",
            "linecolor": "white",
            "ticks": ""
           },
           "baxis": {
            "gridcolor": "white",
            "linecolor": "white",
            "ticks": ""
           },
           "bgcolor": "#E5ECF6",
           "caxis": {
            "gridcolor": "white",
            "linecolor": "white",
            "ticks": ""
           }
          },
          "title": {
           "x": 0.05
          },
          "xaxis": {
           "automargin": true,
           "gridcolor": "white",
           "linecolor": "white",
           "ticks": "",
           "title": {
            "standoff": 15
           },
           "zerolinecolor": "white",
           "zerolinewidth": 2
          },
          "yaxis": {
           "automargin": true,
           "gridcolor": "white",
           "linecolor": "white",
           "ticks": "",
           "title": {
            "standoff": 15
           },
           "zerolinecolor": "white",
           "zerolinewidth": 2
          }
         }
        },
        "title": {
         "text": "Correlation Matrix Heatmap"
        }
       }
      }
     },
     "metadata": {},
     "output_type": "display_data"
    }
   ],
   "source": [
    "fig = go.Figure(data  = go.Heatmap(\n",
    "    z = corr_matrix.values,\n",
    "    x = corr_matrix.columns,\n",
    "    y = corr_matrix.columns,\n",
    "    colorscale = 'Viridis'\n",
    "))\n",
    "\n",
    "fig.update_layout(title='Correlation Matrix Heatmap')\n",
    "fig.show()"
   ]
  },
  {
   "cell_type": "code",
   "execution_count": 13,
   "id": "28314b59",
   "metadata": {},
   "outputs": [],
   "source": [
    "import numpy as np\n",
    "\n",
    "high_demand_threshold = 75\n",
    "low_demand_threshold = 25\n",
    "\n",
    "df['demand_multiplier'] = np.where(df['Number_of_Riders'] > np.percentile(df['Number_of_Riders'], high_demand_threshold),\n",
    "                                     df['Number_of_Riders'] / np.percentile(df['Number_of_Riders'], high_demand_threshold),\n",
    "                                     df['Number_of_Riders'] / np.percentile(df['Number_of_Riders'], low_demand_threshold))\n",
    "\n",
    "high_supply_percentile = 75\n",
    "low_supply_percentile = 25\n",
    "\n",
    "df['supply_multiplier'] = np.where(df['Number_of_Drivers'] > np.percentile(df['Number_of_Drivers'], low_supply_percentile),\n",
    "                                     np.percentile(df['Number_of_Drivers'], high_supply_percentile) / df['Number_of_Drivers'],\n",
    "                                     np.percentile(df['Number_of_Drivers'], low_supply_percentile) / df['Number_of_Drivers'])\n",
    "\n",
    "demand_threshold_high = 1.2\n",
    "demand_threshold_low = 0.8\n",
    "supply_threshold_high = 1.2\n",
    "supply_threshold_low = 0.8\n",
    "\n",
    "df['adjusted_ride_cost'] = df['Historical_Cost_of_Ride'] * (\n",
    "    np.maximum(df['demand_multiplier'], demand_threshold_low) *\n",
    "    np.maximum(df['supply_multiplier'], supply_threshold_high)\n",
    ")\n"
   ]
  },
  {
   "cell_type": "code",
   "execution_count": 16,
   "id": "ff40fd23",
   "metadata": {},
   "outputs": [
    {
     "data": {
      "application/vnd.plotly.v1+json": {
       "config": {
        "plotlyServerURL": "https://plot.ly"
       },
       "data": [
        {
         "hole": 0.3,
         "labels": [
          "Profitable Rides",
          "Loss Rides"
         ],
         "marker": {
          "colors": [
           "#00cc96",
           "#ff6692"
          ]
         },
         "textinfo": "label+percent",
         "type": "pie",
         "values": [
          958,
          42
         ]
        }
       ],
       "layout": {
        "template": {
         "data": {
          "bar": [
           {
            "error_x": {
             "color": "#2a3f5f"
            },
            "error_y": {
             "color": "#2a3f5f"
            },
            "marker": {
             "line": {
              "color": "#E5ECF6",
              "width": 0.5
             },
             "pattern": {
              "fillmode": "overlay",
              "size": 10,
              "solidity": 0.2
             }
            },
            "type": "bar"
           }
          ],
          "barpolar": [
           {
            "marker": {
             "line": {
              "color": "#E5ECF6",
              "width": 0.5
             },
             "pattern": {
              "fillmode": "overlay",
              "size": 10,
              "solidity": 0.2
             }
            },
            "type": "barpolar"
           }
          ],
          "carpet": [
           {
            "aaxis": {
             "endlinecolor": "#2a3f5f",
             "gridcolor": "white",
             "linecolor": "white",
             "minorgridcolor": "white",
             "startlinecolor": "#2a3f5f"
            },
            "baxis": {
             "endlinecolor": "#2a3f5f",
             "gridcolor": "white",
             "linecolor": "white",
             "minorgridcolor": "white",
             "startlinecolor": "#2a3f5f"
            },
            "type": "carpet"
           }
          ],
          "choropleth": [
           {
            "colorbar": {
             "outlinewidth": 0,
             "ticks": ""
            },
            "type": "choropleth"
           }
          ],
          "contour": [
           {
            "colorbar": {
             "outlinewidth": 0,
             "ticks": ""
            },
            "colorscale": [
             [
              0,
              "#0d0887"
             ],
             [
              0.1111111111111111,
              "#46039f"
             ],
             [
              0.2222222222222222,
              "#7201a8"
             ],
             [
              0.3333333333333333,
              "#9c179e"
             ],
             [
              0.4444444444444444,
              "#bd3786"
             ],
             [
              0.5555555555555556,
              "#d8576b"
             ],
             [
              0.6666666666666666,
              "#ed7953"
             ],
             [
              0.7777777777777778,
              "#fb9f3a"
             ],
             [
              0.8888888888888888,
              "#fdca26"
             ],
             [
              1,
              "#f0f921"
             ]
            ],
            "type": "contour"
           }
          ],
          "contourcarpet": [
           {
            "colorbar": {
             "outlinewidth": 0,
             "ticks": ""
            },
            "type": "contourcarpet"
           }
          ],
          "heatmap": [
           {
            "colorbar": {
             "outlinewidth": 0,
             "ticks": ""
            },
            "colorscale": [
             [
              0,
              "#0d0887"
             ],
             [
              0.1111111111111111,
              "#46039f"
             ],
             [
              0.2222222222222222,
              "#7201a8"
             ],
             [
              0.3333333333333333,
              "#9c179e"
             ],
             [
              0.4444444444444444,
              "#bd3786"
             ],
             [
              0.5555555555555556,
              "#d8576b"
             ],
             [
              0.6666666666666666,
              "#ed7953"
             ],
             [
              0.7777777777777778,
              "#fb9f3a"
             ],
             [
              0.8888888888888888,
              "#fdca26"
             ],
             [
              1,
              "#f0f921"
             ]
            ],
            "type": "heatmap"
           }
          ],
          "histogram": [
           {
            "marker": {
             "pattern": {
              "fillmode": "overlay",
              "size": 10,
              "solidity": 0.2
             }
            },
            "type": "histogram"
           }
          ],
          "histogram2d": [
           {
            "colorbar": {
             "outlinewidth": 0,
             "ticks": ""
            },
            "colorscale": [
             [
              0,
              "#0d0887"
             ],
             [
              0.1111111111111111,
              "#46039f"
             ],
             [
              0.2222222222222222,
              "#7201a8"
             ],
             [
              0.3333333333333333,
              "#9c179e"
             ],
             [
              0.4444444444444444,
              "#bd3786"
             ],
             [
              0.5555555555555556,
              "#d8576b"
             ],
             [
              0.6666666666666666,
              "#ed7953"
             ],
             [
              0.7777777777777778,
              "#fb9f3a"
             ],
             [
              0.8888888888888888,
              "#fdca26"
             ],
             [
              1,
              "#f0f921"
             ]
            ],
            "type": "histogram2d"
           }
          ],
          "histogram2dcontour": [
           {
            "colorbar": {
             "outlinewidth": 0,
             "ticks": ""
            },
            "colorscale": [
             [
              0,
              "#0d0887"
             ],
             [
              0.1111111111111111,
              "#46039f"
             ],
             [
              0.2222222222222222,
              "#7201a8"
             ],
             [
              0.3333333333333333,
              "#9c179e"
             ],
             [
              0.4444444444444444,
              "#bd3786"
             ],
             [
              0.5555555555555556,
              "#d8576b"
             ],
             [
              0.6666666666666666,
              "#ed7953"
             ],
             [
              0.7777777777777778,
              "#fb9f3a"
             ],
             [
              0.8888888888888888,
              "#fdca26"
             ],
             [
              1,
              "#f0f921"
             ]
            ],
            "type": "histogram2dcontour"
           }
          ],
          "mesh3d": [
           {
            "colorbar": {
             "outlinewidth": 0,
             "ticks": ""
            },
            "type": "mesh3d"
           }
          ],
          "parcoords": [
           {
            "line": {
             "colorbar": {
              "outlinewidth": 0,
              "ticks": ""
             }
            },
            "type": "parcoords"
           }
          ],
          "pie": [
           {
            "automargin": true,
            "type": "pie"
           }
          ],
          "scatter": [
           {
            "fillpattern": {
             "fillmode": "overlay",
             "size": 10,
             "solidity": 0.2
            },
            "type": "scatter"
           }
          ],
          "scatter3d": [
           {
            "line": {
             "colorbar": {
              "outlinewidth": 0,
              "ticks": ""
             }
            },
            "marker": {
             "colorbar": {
              "outlinewidth": 0,
              "ticks": ""
             }
            },
            "type": "scatter3d"
           }
          ],
          "scattercarpet": [
           {
            "marker": {
             "colorbar": {
              "outlinewidth": 0,
              "ticks": ""
             }
            },
            "type": "scattercarpet"
           }
          ],
          "scattergeo": [
           {
            "marker": {
             "colorbar": {
              "outlinewidth": 0,
              "ticks": ""
             }
            },
            "type": "scattergeo"
           }
          ],
          "scattergl": [
           {
            "marker": {
             "colorbar": {
              "outlinewidth": 0,
              "ticks": ""
             }
            },
            "type": "scattergl"
           }
          ],
          "scattermap": [
           {
            "marker": {
             "colorbar": {
              "outlinewidth": 0,
              "ticks": ""
             }
            },
            "type": "scattermap"
           }
          ],
          "scattermapbox": [
           {
            "marker": {
             "colorbar": {
              "outlinewidth": 0,
              "ticks": ""
             }
            },
            "type": "scattermapbox"
           }
          ],
          "scatterpolar": [
           {
            "marker": {
             "colorbar": {
              "outlinewidth": 0,
              "ticks": ""
             }
            },
            "type": "scatterpolar"
           }
          ],
          "scatterpolargl": [
           {
            "marker": {
             "colorbar": {
              "outlinewidth": 0,
              "ticks": ""
             }
            },
            "type": "scatterpolargl"
           }
          ],
          "scatterternary": [
           {
            "marker": {
             "colorbar": {
              "outlinewidth": 0,
              "ticks": ""
             }
            },
            "type": "scatterternary"
           }
          ],
          "surface": [
           {
            "colorbar": {
             "outlinewidth": 0,
             "ticks": ""
            },
            "colorscale": [
             [
              0,
              "#0d0887"
             ],
             [
              0.1111111111111111,
              "#46039f"
             ],
             [
              0.2222222222222222,
              "#7201a8"
             ],
             [
              0.3333333333333333,
              "#9c179e"
             ],
             [
              0.4444444444444444,
              "#bd3786"
             ],
             [
              0.5555555555555556,
              "#d8576b"
             ],
             [
              0.6666666666666666,
              "#ed7953"
             ],
             [
              0.7777777777777778,
              "#fb9f3a"
             ],
             [
              0.8888888888888888,
              "#fdca26"
             ],
             [
              1,
              "#f0f921"
             ]
            ],
            "type": "surface"
           }
          ],
          "table": [
           {
            "cells": {
             "fill": {
              "color": "#EBF0F8"
             },
             "line": {
              "color": "white"
             }
            },
            "header": {
             "fill": {
              "color": "#C8D4E3"
             },
             "line": {
              "color": "white"
             }
            },
            "type": "table"
           }
          ]
         },
         "layout": {
          "annotationdefaults": {
           "arrowcolor": "#2a3f5f",
           "arrowhead": 0,
           "arrowwidth": 1
          },
          "autotypenumbers": "strict",
          "coloraxis": {
           "colorbar": {
            "outlinewidth": 0,
            "ticks": ""
           }
          },
          "colorscale": {
           "diverging": [
            [
             0,
             "#8e0152"
            ],
            [
             0.1,
             "#c51b7d"
            ],
            [
             0.2,
             "#de77ae"
            ],
            [
             0.3,
             "#f1b6da"
            ],
            [
             0.4,
             "#fde0ef"
            ],
            [
             0.5,
             "#f7f7f7"
            ],
            [
             0.6,
             "#e6f5d0"
            ],
            [
             0.7,
             "#b8e186"
            ],
            [
             0.8,
             "#7fbc41"
            ],
            [
             0.9,
             "#4d9221"
            ],
            [
             1,
             "#276419"
            ]
           ],
           "sequential": [
            [
             0,
             "#0d0887"
            ],
            [
             0.1111111111111111,
             "#46039f"
            ],
            [
             0.2222222222222222,
             "#7201a8"
            ],
            [
             0.3333333333333333,
             "#9c179e"
            ],
            [
             0.4444444444444444,
             "#bd3786"
            ],
            [
             0.5555555555555556,
             "#d8576b"
            ],
            [
             0.6666666666666666,
             "#ed7953"
            ],
            [
             0.7777777777777778,
             "#fb9f3a"
            ],
            [
             0.8888888888888888,
             "#fdca26"
            ],
            [
             1,
             "#f0f921"
            ]
           ],
           "sequentialminus": [
            [
             0,
             "#0d0887"
            ],
            [
             0.1111111111111111,
             "#46039f"
            ],
            [
             0.2222222222222222,
             "#7201a8"
            ],
            [
             0.3333333333333333,
             "#9c179e"
            ],
            [
             0.4444444444444444,
             "#bd3786"
            ],
            [
             0.5555555555555556,
             "#d8576b"
            ],
            [
             0.6666666666666666,
             "#ed7953"
            ],
            [
             0.7777777777777778,
             "#fb9f3a"
            ],
            [
             0.8888888888888888,
             "#fdca26"
            ],
            [
             1,
             "#f0f921"
            ]
           ]
          },
          "colorway": [
           "#636efa",
           "#EF553B",
           "#00cc96",
           "#ab63fa",
           "#FFA15A",
           "#19d3f3",
           "#FF6692",
           "#B6E880",
           "#FF97FF",
           "#FECB52"
          ],
          "font": {
           "color": "#2a3f5f"
          },
          "geo": {
           "bgcolor": "white",
           "lakecolor": "white",
           "landcolor": "#E5ECF6",
           "showlakes": true,
           "showland": true,
           "subunitcolor": "white"
          },
          "hoverlabel": {
           "align": "left"
          },
          "hovermode": "closest",
          "mapbox": {
           "style": "light"
          },
          "paper_bgcolor": "white",
          "plot_bgcolor": "#E5ECF6",
          "polar": {
           "angularaxis": {
            "gridcolor": "white",
            "linecolor": "white",
            "ticks": ""
           },
           "bgcolor": "#E5ECF6",
           "radialaxis": {
            "gridcolor": "white",
            "linecolor": "white",
            "ticks": ""
           }
          },
          "scene": {
           "xaxis": {
            "backgroundcolor": "#E5ECF6",
            "gridcolor": "white",
            "gridwidth": 2,
            "linecolor": "white",
            "showbackground": true,
            "ticks": "",
            "zerolinecolor": "white"
           },
           "yaxis": {
            "backgroundcolor": "#E5ECF6",
            "gridcolor": "white",
            "gridwidth": 2,
            "linecolor": "white",
            "showbackground": true,
            "ticks": "",
            "zerolinecolor": "white"
           },
           "zaxis": {
            "backgroundcolor": "#E5ECF6",
            "gridcolor": "white",
            "gridwidth": 2,
            "linecolor": "white",
            "showbackground": true,
            "ticks": "",
            "zerolinecolor": "white"
           }
          },
          "shapedefaults": {
           "line": {
            "color": "#2a3f5f"
           }
          },
          "ternary": {
           "aaxis": {
            "gridcolor": "white",
            "linecolor": "white",
            "ticks": ""
           },
           "baxis": {
            "gridcolor": "white",
            "linecolor": "white",
            "ticks": ""
           },
           "bgcolor": "#E5ECF6",
           "caxis": {
            "gridcolor": "white",
            "linecolor": "white",
            "ticks": ""
           }
          },
          "title": {
           "x": 0.05
          },
          "xaxis": {
           "automargin": true,
           "gridcolor": "white",
           "linecolor": "white",
           "ticks": "",
           "title": {
            "standoff": 15
           },
           "zerolinecolor": "white",
           "zerolinewidth": 2
          },
          "yaxis": {
           "automargin": true,
           "gridcolor": "white",
           "linecolor": "white",
           "ticks": "",
           "title": {
            "standoff": 15
           },
           "zerolinecolor": "white",
           "zerolinewidth": 2
          }
         }
        },
        "title": {
         "text": "Distribution of Profitable vs Loss Rides"
        }
       }
      }
     },
     "metadata": {},
     "output_type": "display_data"
    }
   ],
   "source": [
    "df['profit_percentage'] = (df['adjusted_ride_cost'] - df['Historical_Cost_of_Ride']) / df['Historical_Cost_of_Ride'] * 100\n",
    "\n",
    "profitable_rides = df[df['profit_percentage'] > 0]\n",
    "\n",
    "loss_rides = df[df['profit_percentage'] < 0]\n",
    "\n",
    "profitable_count = len(profitable_rides)\n",
    "loss_count = len(loss_rides)\n",
    "\n",
    "fig = go.Figure(data=[\n",
    "    go.Pie(\n",
    "        labels=['Profitable Rides', 'Loss Rides'],\n",
    "        values=[profitable_count, loss_count],\n",
    "        hole=0.3,\n",
    "        textinfo='label+percent',\n",
    "        marker=dict(colors=['#00cc96', '#ff6692'])\n",
    "    )\n",
    "])\n",
    "\n",
    "fig.update_layout(title='Distribution of Profitable vs Loss Rides')"
   ]
  },
  {
   "cell_type": "code",
   "execution_count": 17,
   "id": "2be8cab1",
   "metadata": {},
   "outputs": [
    {
     "data": {
      "application/vnd.plotly.v1+json": {
       "config": {
        "plotlyServerURL": "https://plot.ly"
       },
       "data": [
        {
         "hovertemplate": "Expected_Ride_Duration=%{x}<br>adjusted_ride_cost=%{y}<extra></extra>",
         "legendgroup": "",
         "marker": {
          "color": "#636efa",
          "symbol": "circle"
         },
         "mode": "markers",
         "name": "",
         "orientation": "v",
         "showlegend": false,
         "type": "scatter",
         "x": {
          "bdata": "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",
          "dtype": "i2"
         },
         "xaxis": "x",
         "y": {
          "bdata": "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",
          "dtype": "f8"
         },
         "yaxis": "y"
        },
        {
         "hovertemplate": "<b>OLS trendline</b><br>adjusted_ride_cost = 6.86101 * Expected_Ride_Duration + 50.8847<br>R<sup>2</sup>=0.494383<br><br>Expected_Ride_Duration=%{x}<br>adjusted_ride_cost=%{y} <b>(trend)</b><extra></extra>",
         "legendgroup": "",
         "marker": {
          "color": "#636efa",
          "symbol": "circle"
         },
         "mode": "lines",
         "name": "",
         "showlegend": false,
         "type": "scatter",
         "x": {
          "bdata": "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",
          "dtype": "i2"
         },
         "xaxis": "x",
         "y": {
          "bdata": "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",
          "dtype": "f8"
         },
         "yaxis": "y"
        }
       ],
       "layout": {
        "legend": {
         "tracegroupgap": 0
        },
        "template": {
         "data": {
          "bar": [
           {
            "error_x": {
             "color": "#2a3f5f"
            },
            "error_y": {
             "color": "#2a3f5f"
            },
            "marker": {
             "line": {
              "color": "#E5ECF6",
              "width": 0.5
             },
             "pattern": {
              "fillmode": "overlay",
              "size": 10,
              "solidity": 0.2
             }
            },
            "type": "bar"
           }
          ],
          "barpolar": [
           {
            "marker": {
             "line": {
              "color": "#E5ECF6",
              "width": 0.5
             },
             "pattern": {
              "fillmode": "overlay",
              "size": 10,
              "solidity": 0.2
             }
            },
            "type": "barpolar"
           }
          ],
          "carpet": [
           {
            "aaxis": {
             "endlinecolor": "#2a3f5f",
             "gridcolor": "white",
             "linecolor": "white",
             "minorgridcolor": "white",
             "startlinecolor": "#2a3f5f"
            },
            "baxis": {
             "endlinecolor": "#2a3f5f",
             "gridcolor": "white",
             "linecolor": "white",
             "minorgridcolor": "white",
             "startlinecolor": "#2a3f5f"
            },
            "type": "carpet"
           }
          ],
          "choropleth": [
           {
            "colorbar": {
             "outlinewidth": 0,
             "ticks": ""
            },
            "type": "choropleth"
           }
          ],
          "contour": [
           {
            "colorbar": {
             "outlinewidth": 0,
             "ticks": ""
            },
            "colorscale": [
             [
              0,
              "#0d0887"
             ],
             [
              0.1111111111111111,
              "#46039f"
             ],
             [
              0.2222222222222222,
              "#7201a8"
             ],
             [
              0.3333333333333333,
              "#9c179e"
             ],
             [
              0.4444444444444444,
              "#bd3786"
             ],
             [
              0.5555555555555556,
              "#d8576b"
             ],
             [
              0.6666666666666666,
              "#ed7953"
             ],
             [
              0.7777777777777778,
              "#fb9f3a"
             ],
             [
              0.8888888888888888,
              "#fdca26"
             ],
             [
              1,
              "#f0f921"
             ]
            ],
            "type": "contour"
           }
          ],
          "contourcarpet": [
           {
            "colorbar": {
             "outlinewidth": 0,
             "ticks": ""
            },
            "type": "contourcarpet"
           }
          ],
          "heatmap": [
           {
            "colorbar": {
             "outlinewidth": 0,
             "ticks": ""
            },
            "colorscale": [
             [
              0,
              "#0d0887"
             ],
             [
              0.1111111111111111,
              "#46039f"
             ],
             [
              0.2222222222222222,
              "#7201a8"
             ],
             [
              0.3333333333333333,
              "#9c179e"
             ],
             [
              0.4444444444444444,
              "#bd3786"
             ],
             [
              0.5555555555555556,
              "#d8576b"
             ],
             [
              0.6666666666666666,
              "#ed7953"
             ],
             [
              0.7777777777777778,
              "#fb9f3a"
             ],
             [
              0.8888888888888888,
              "#fdca26"
             ],
             [
              1,
              "#f0f921"
             ]
            ],
            "type": "heatmap"
           }
          ],
          "histogram": [
           {
            "marker": {
             "pattern": {
              "fillmode": "overlay",
              "size": 10,
              "solidity": 0.2
             }
            },
            "type": "histogram"
           }
          ],
          "histogram2d": [
           {
            "colorbar": {
             "outlinewidth": 0,
             "ticks": ""
            },
            "colorscale": [
             [
              0,
              "#0d0887"
             ],
             [
              0.1111111111111111,
              "#46039f"
             ],
             [
              0.2222222222222222,
              "#7201a8"
             ],
             [
              0.3333333333333333,
              "#9c179e"
             ],
             [
              0.4444444444444444,
              "#bd3786"
             ],
             [
              0.5555555555555556,
              "#d8576b"
             ],
             [
              0.6666666666666666,
              "#ed7953"
             ],
             [
              0.7777777777777778,
              "#fb9f3a"
             ],
             [
              0.8888888888888888,
              "#fdca26"
             ],
             [
              1,
              "#f0f921"
             ]
            ],
            "type": "histogram2d"
           }
          ],
          "histogram2dcontour": [
           {
            "colorbar": {
             "outlinewidth": 0,
             "ticks": ""
            },
            "colorscale": [
             [
              0,
              "#0d0887"
             ],
             [
              0.1111111111111111,
              "#46039f"
             ],
             [
              0.2222222222222222,
              "#7201a8"
             ],
             [
              0.3333333333333333,
              "#9c179e"
             ],
             [
              0.4444444444444444,
              "#bd3786"
             ],
             [
              0.5555555555555556,
              "#d8576b"
             ],
             [
              0.6666666666666666,
              "#ed7953"
             ],
             [
              0.7777777777777778,
              "#fb9f3a"
             ],
             [
              0.8888888888888888,
              "#fdca26"
             ],
             [
              1,
              "#f0f921"
             ]
            ],
            "type": "histogram2dcontour"
           }
          ],
          "mesh3d": [
           {
            "colorbar": {
             "outlinewidth": 0,
             "ticks": ""
            },
            "type": "mesh3d"
           }
          ],
          "parcoords": [
           {
            "line": {
             "colorbar": {
              "outlinewidth": 0,
              "ticks": ""
             }
            },
            "type": "parcoords"
           }
          ],
          "pie": [
           {
            "automargin": true,
            "type": "pie"
           }
          ],
          "scatter": [
           {
            "fillpattern": {
             "fillmode": "overlay",
             "size": 10,
             "solidity": 0.2
            },
            "type": "scatter"
           }
          ],
          "scatter3d": [
           {
            "line": {
             "colorbar": {
              "outlinewidth": 0,
              "ticks": ""
             }
            },
            "marker": {
             "colorbar": {
              "outlinewidth": 0,
              "ticks": ""
             }
            },
            "type": "scatter3d"
           }
          ],
          "scattercarpet": [
           {
            "marker": {
             "colorbar": {
              "outlinewidth": 0,
              "ticks": ""
             }
            },
            "type": "scattercarpet"
           }
          ],
          "scattergeo": [
           {
            "marker": {
             "colorbar": {
              "outlinewidth": 0,
              "ticks": ""
             }
            },
            "type": "scattergeo"
           }
          ],
          "scattergl": [
           {
            "marker": {
             "colorbar": {
              "outlinewidth": 0,
              "ticks": ""
             }
            },
            "type": "scattergl"
           }
          ],
          "scattermap": [
           {
            "marker": {
             "colorbar": {
              "outlinewidth": 0,
              "ticks": ""
             }
            },
            "type": "scattermap"
           }
          ],
          "scattermapbox": [
           {
            "marker": {
             "colorbar": {
              "outlinewidth": 0,
              "ticks": ""
             }
            },
            "type": "scattermapbox"
           }
          ],
          "scatterpolar": [
           {
            "marker": {
             "colorbar": {
              "outlinewidth": 0,
              "ticks": ""
             }
            },
            "type": "scatterpolar"
           }
          ],
          "scatterpolargl": [
           {
            "marker": {
             "colorbar": {
              "outlinewidth": 0,
              "ticks": ""
             }
            },
            "type": "scatterpolargl"
           }
          ],
          "scatterternary": [
           {
            "marker": {
             "colorbar": {
              "outlinewidth": 0,
              "ticks": ""
             }
            },
            "type": "scatterternary"
           }
          ],
          "surface": [
           {
            "colorbar": {
             "outlinewidth": 0,
             "ticks": ""
            },
            "colorscale": [
             [
              0,
              "#0d0887"
             ],
             [
              0.1111111111111111,
              "#46039f"
             ],
             [
              0.2222222222222222,
              "#7201a8"
             ],
             [
              0.3333333333333333,
              "#9c179e"
             ],
             [
              0.4444444444444444,
              "#bd3786"
             ],
             [
              0.5555555555555556,
              "#d8576b"
             ],
             [
              0.6666666666666666,
              "#ed7953"
             ],
             [
              0.7777777777777778,
              "#fb9f3a"
             ],
             [
              0.8888888888888888,
              "#fdca26"
             ],
             [
              1,
              "#f0f921"
             ]
            ],
            "type": "surface"
           }
          ],
          "table": [
           {
            "cells": {
             "fill": {
              "color": "#EBF0F8"
             },
             "line": {
              "color": "white"
             }
            },
            "header": {
             "fill": {
              "color": "#C8D4E3"
             },
             "line": {
              "color": "white"
             }
            },
            "type": "table"
           }
          ]
         },
         "layout": {
          "annotationdefaults": {
           "arrowcolor": "#2a3f5f",
           "arrowhead": 0,
           "arrowwidth": 1
          },
          "autotypenumbers": "strict",
          "coloraxis": {
           "colorbar": {
            "outlinewidth": 0,
            "ticks": ""
           }
          },
          "colorscale": {
           "diverging": [
            [
             0,
             "#8e0152"
            ],
            [
             0.1,
             "#c51b7d"
            ],
            [
             0.2,
             "#de77ae"
            ],
            [
             0.3,
             "#f1b6da"
            ],
            [
             0.4,
             "#fde0ef"
            ],
            [
             0.5,
             "#f7f7f7"
            ],
            [
             0.6,
             "#e6f5d0"
            ],
            [
             0.7,
             "#b8e186"
            ],
            [
             0.8,
             "#7fbc41"
            ],
            [
             0.9,
             "#4d9221"
            ],
            [
             1,
             "#276419"
            ]
           ],
           "sequential": [
            [
             0,
             "#0d0887"
            ],
            [
             0.1111111111111111,
             "#46039f"
            ],
            [
             0.2222222222222222,
             "#7201a8"
            ],
            [
             0.3333333333333333,
             "#9c179e"
            ],
            [
             0.4444444444444444,
             "#bd3786"
            ],
            [
             0.5555555555555556,
             "#d8576b"
            ],
            [
             0.6666666666666666,
             "#ed7953"
            ],
            [
             0.7777777777777778,
             "#fb9f3a"
            ],
            [
             0.8888888888888888,
             "#fdca26"
            ],
            [
             1,
             "#f0f921"
            ]
           ],
           "sequentialminus": [
            [
             0,
             "#0d0887"
            ],
            [
             0.1111111111111111,
             "#46039f"
            ],
            [
             0.2222222222222222,
             "#7201a8"
            ],
            [
             0.3333333333333333,
             "#9c179e"
            ],
            [
             0.4444444444444444,
             "#bd3786"
            ],
            [
             0.5555555555555556,
             "#d8576b"
            ],
            [
             0.6666666666666666,
             "#ed7953"
            ],
            [
             0.7777777777777778,
             "#fb9f3a"
            ],
            [
             0.8888888888888888,
             "#fdca26"
            ],
            [
             1,
             "#f0f921"
            ]
           ]
          },
          "colorway": [
           "#636efa",
           "#EF553B",
           "#00cc96",
           "#ab63fa",
           "#FFA15A",
           "#19d3f3",
           "#FF6692",
           "#B6E880",
           "#FF97FF",
           "#FECB52"
          ],
          "font": {
           "color": "#2a3f5f"
          },
          "geo": {
           "bgcolor": "white",
           "lakecolor": "white",
           "landcolor": "#E5ECF6",
           "showlakes": true,
           "showland": true,
           "subunitcolor": "white"
          },
          "hoverlabel": {
           "align": "left"
          },
          "hovermode": "closest",
          "mapbox": {
           "style": "light"
          },
          "paper_bgcolor": "white",
          "plot_bgcolor": "#E5ECF6",
          "polar": {
           "angularaxis": {
            "gridcolor": "white",
            "linecolor": "white",
            "ticks": ""
           },
           "bgcolor": "#E5ECF6",
           "radialaxis": {
            "gridcolor": "white",
            "linecolor": "white",
            "ticks": ""
           }
          },
          "scene": {
           "xaxis": {
            "backgroundcolor": "#E5ECF6",
            "gridcolor": "white",
            "gridwidth": 2,
            "linecolor": "white",
            "showbackground": true,
            "ticks": "",
            "zerolinecolor": "white"
           },
           "yaxis": {
            "backgroundcolor": "#E5ECF6",
            "gridcolor": "white",
            "gridwidth": 2,
            "linecolor": "white",
            "showbackground": true,
            "ticks": "",
            "zerolinecolor": "white"
           },
           "zaxis": {
            "backgroundcolor": "#E5ECF6",
            "gridcolor": "white",
            "gridwidth": 2,
            "linecolor": "white",
            "showbackground": true,
            "ticks": "",
            "zerolinecolor": "white"
           }
          },
          "shapedefaults": {
           "line": {
            "color": "#2a3f5f"
           }
          },
          "ternary": {
           "aaxis": {
            "gridcolor": "white",
            "linecolor": "white",
            "ticks": ""
           },
           "baxis": {
            "gridcolor": "white",
            "linecolor": "white",
            "ticks": ""
           },
           "bgcolor": "#E5ECF6",
           "caxis": {
            "gridcolor": "white",
            "linecolor": "white",
            "ticks": ""
           }
          },
          "title": {
           "x": 0.05
          },
          "xaxis": {
           "automargin": true,
           "gridcolor": "white",
           "linecolor": "white",
           "ticks": "",
           "title": {
            "standoff": 15
           },
           "zerolinecolor": "white",
           "zerolinewidth": 2
          },
          "yaxis": {
           "automargin": true,
           "gridcolor": "white",
           "linecolor": "white",
           "ticks": "",
           "title": {
            "standoff": 15
           },
           "zerolinecolor": "white",
           "zerolinewidth": 2
          }
         }
        },
        "title": {
         "text": "Adjusted Ride Cost vs Expected Ride Duration"
        },
        "xaxis": {
         "anchor": "y",
         "domain": [
          0,
          1
         ],
         "title": {
          "text": "Expected_Ride_Duration"
         }
        },
        "yaxis": {
         "anchor": "x",
         "domain": [
          0,
          1
         ],
         "title": {
          "text": "adjusted_ride_cost"
         }
        }
       }
      }
     },
     "metadata": {},
     "output_type": "display_data"
    }
   ],
   "source": [
    "fig = px.scatter(df, x='Expected_Ride_Duration', y='adjusted_ride_cost',title='Adjusted Ride Cost vs Expected Ride Duration',trendline='ols')\n",
    "fig.show()"
   ]
  },
  {
   "cell_type": "code",
   "execution_count": 18,
   "id": "0c147f1a",
   "metadata": {},
   "outputs": [],
   "source": [
    "from sklearn.preprocessing import StandardScaler"
   ]
  },
  {
   "cell_type": "code",
   "execution_count": 19,
   "id": "99aaba31",
   "metadata": {},
   "outputs": [],
   "source": [
    "def data_preprocessing_pipeline(df):\n",
    "    numeric_features = df.select_dtypes(include=['float64', 'int64']).columns\n",
    "    categorical_features = df.select_dtypes(include=['object']).columns\n",
    "\n",
    "    # Handling missing values\n",
    "    df[numeric_features] = df[numeric_features].fillna(df[numeric_features].mean())\n",
    "\n",
    "    for feature in numeric_features:\n",
    "        Q1 = df[feature].quantile(0.25)\n",
    "        Q3 = df[feature].quantile(0.75)\n",
    "        IQR = Q3 - Q1\n",
    "        lower_bound = Q1 - 1.5 * IQR\n",
    "        upper_bound = Q3 + 1.5 * IQR\n",
    "        df[feature] = np.where(df[feature] < lower_bound | df[feature] > upper_bound, df[feature].mean(), df[feature])\n",
    "    \n",
    "    # missing values in categorical features\n",
    "    df[categorical_features] = df[categorical_features].fillna(df[categorical_features].mode().iloc[0])\n",
    "\n",
    "    return df"
   ]
  },
  {
   "cell_type": "code",
   "execution_count": 21,
   "id": "c3d6450b",
   "metadata": {},
   "outputs": [],
   "source": [
    "df['Vehicle_Type'] = df['Vehicle_Type'].map({\n",
    "    'Premium': 1,\n",
    "    'Economy' : 0\n",
    "})"
   ]
  },
  {
   "cell_type": "code",
   "execution_count": 22,
   "id": "8bf1c1d3",
   "metadata": {},
   "outputs": [
    {
     "data": {
      "text/html": [
       "<style>#sk-container-id-1 {\n",
       "  /* Definition of color scheme common for light and dark mode */\n",
       "  --sklearn-color-text: black;\n",
       "  --sklearn-color-line: gray;\n",
       "  /* Definition of color scheme for unfitted estimators */\n",
       "  --sklearn-color-unfitted-level-0: #fff5e6;\n",
       "  --sklearn-color-unfitted-level-1: #f6e4d2;\n",
       "  --sklearn-color-unfitted-level-2: #ffe0b3;\n",
       "  --sklearn-color-unfitted-level-3: chocolate;\n",
       "  /* Definition of color scheme for fitted estimators */\n",
       "  --sklearn-color-fitted-level-0: #f0f8ff;\n",
       "  --sklearn-color-fitted-level-1: #d4ebff;\n",
       "  --sklearn-color-fitted-level-2: #b3dbfd;\n",
       "  --sklearn-color-fitted-level-3: cornflowerblue;\n",
       "\n",
       "  /* Specific color for light theme */\n",
       "  --sklearn-color-text-on-default-background: var(--sg-text-color, var(--theme-code-foreground, var(--jp-content-font-color1, black)));\n",
       "  --sklearn-color-background: var(--sg-background-color, var(--theme-background, var(--jp-layout-color0, white)));\n",
       "  --sklearn-color-border-box: var(--sg-text-color, var(--theme-code-foreground, var(--jp-content-font-color1, black)));\n",
       "  --sklearn-color-icon: #696969;\n",
       "\n",
       "  @media (prefers-color-scheme: dark) {\n",
       "    /* Redefinition of color scheme for dark theme */\n",
       "    --sklearn-color-text-on-default-background: var(--sg-text-color, var(--theme-code-foreground, var(--jp-content-font-color1, white)));\n",
       "    --sklearn-color-background: var(--sg-background-color, var(--theme-background, var(--jp-layout-color0, #111)));\n",
       "    --sklearn-color-border-box: var(--sg-text-color, var(--theme-code-foreground, var(--jp-content-font-color1, white)));\n",
       "    --sklearn-color-icon: #878787;\n",
       "  }\n",
       "}\n",
       "\n",
       "#sk-container-id-1 {\n",
       "  color: var(--sklearn-color-text);\n",
       "}\n",
       "\n",
       "#sk-container-id-1 pre {\n",
       "  padding: 0;\n",
       "}\n",
       "\n",
       "#sk-container-id-1 input.sk-hidden--visually {\n",
       "  border: 0;\n",
       "  clip: rect(1px 1px 1px 1px);\n",
       "  clip: rect(1px, 1px, 1px, 1px);\n",
       "  height: 1px;\n",
       "  margin: -1px;\n",
       "  overflow: hidden;\n",
       "  padding: 0;\n",
       "  position: absolute;\n",
       "  width: 1px;\n",
       "}\n",
       "\n",
       "#sk-container-id-1 div.sk-dashed-wrapped {\n",
       "  border: 1px dashed var(--sklearn-color-line);\n",
       "  margin: 0 0.4em 0.5em 0.4em;\n",
       "  box-sizing: border-box;\n",
       "  padding-bottom: 0.4em;\n",
       "  background-color: var(--sklearn-color-background);\n",
       "}\n",
       "\n",
       "#sk-container-id-1 div.sk-container {\n",
       "  /* jupyter's `normalize.less` sets `[hidden] { display: none; }`\n",
       "     but bootstrap.min.css set `[hidden] { display: none !important; }`\n",
       "     so we also need the `!important` here to be able to override the\n",
       "     default hidden behavior on the sphinx rendered scikit-learn.org.\n",
       "     See: https://github.com/scikit-learn/scikit-learn/issues/21755 */\n",
       "  display: inline-block !important;\n",
       "  position: relative;\n",
       "}\n",
       "\n",
       "#sk-container-id-1 div.sk-text-repr-fallback {\n",
       "  display: none;\n",
       "}\n",
       "\n",
       "div.sk-parallel-item,\n",
       "div.sk-serial,\n",
       "div.sk-item {\n",
       "  /* draw centered vertical line to link estimators */\n",
       "  background-image: linear-gradient(var(--sklearn-color-text-on-default-background), var(--sklearn-color-text-on-default-background));\n",
       "  background-size: 2px 100%;\n",
       "  background-repeat: no-repeat;\n",
       "  background-position: center center;\n",
       "}\n",
       "\n",
       "/* Parallel-specific style estimator block */\n",
       "\n",
       "#sk-container-id-1 div.sk-parallel-item::after {\n",
       "  content: \"\";\n",
       "  width: 100%;\n",
       "  border-bottom: 2px solid var(--sklearn-color-text-on-default-background);\n",
       "  flex-grow: 1;\n",
       "}\n",
       "\n",
       "#sk-container-id-1 div.sk-parallel {\n",
       "  display: flex;\n",
       "  align-items: stretch;\n",
       "  justify-content: center;\n",
       "  background-color: var(--sklearn-color-background);\n",
       "  position: relative;\n",
       "}\n",
       "\n",
       "#sk-container-id-1 div.sk-parallel-item {\n",
       "  display: flex;\n",
       "  flex-direction: column;\n",
       "}\n",
       "\n",
       "#sk-container-id-1 div.sk-parallel-item:first-child::after {\n",
       "  align-self: flex-end;\n",
       "  width: 50%;\n",
       "}\n",
       "\n",
       "#sk-container-id-1 div.sk-parallel-item:last-child::after {\n",
       "  align-self: flex-start;\n",
       "  width: 50%;\n",
       "}\n",
       "\n",
       "#sk-container-id-1 div.sk-parallel-item:only-child::after {\n",
       "  width: 0;\n",
       "}\n",
       "\n",
       "/* Serial-specific style estimator block */\n",
       "\n",
       "#sk-container-id-1 div.sk-serial {\n",
       "  display: flex;\n",
       "  flex-direction: column;\n",
       "  align-items: center;\n",
       "  background-color: var(--sklearn-color-background);\n",
       "  padding-right: 1em;\n",
       "  padding-left: 1em;\n",
       "}\n",
       "\n",
       "\n",
       "/* Toggleable style: style used for estimator/Pipeline/ColumnTransformer box that is\n",
       "clickable and can be expanded/collapsed.\n",
       "- Pipeline and ColumnTransformer use this feature and define the default style\n",
       "- Estimators will overwrite some part of the style using the `sk-estimator` class\n",
       "*/\n",
       "\n",
       "/* Pipeline and ColumnTransformer style (default) */\n",
       "\n",
       "#sk-container-id-1 div.sk-toggleable {\n",
       "  /* Default theme specific background. It is overwritten whether we have a\n",
       "  specific estimator or a Pipeline/ColumnTransformer */\n",
       "  background-color: var(--sklearn-color-background);\n",
       "}\n",
       "\n",
       "/* Toggleable label */\n",
       "#sk-container-id-1 label.sk-toggleable__label {\n",
       "  cursor: pointer;\n",
       "  display: block;\n",
       "  width: 100%;\n",
       "  margin-bottom: 0;\n",
       "  padding: 0.5em;\n",
       "  box-sizing: border-box;\n",
       "  text-align: center;\n",
       "}\n",
       "\n",
       "#sk-container-id-1 label.sk-toggleable__label-arrow:before {\n",
       "  /* Arrow on the left of the label */\n",
       "  content: \"▸\";\n",
       "  float: left;\n",
       "  margin-right: 0.25em;\n",
       "  color: var(--sklearn-color-icon);\n",
       "}\n",
       "\n",
       "#sk-container-id-1 label.sk-toggleable__label-arrow:hover:before {\n",
       "  color: var(--sklearn-color-text);\n",
       "}\n",
       "\n",
       "/* Toggleable content - dropdown */\n",
       "\n",
       "#sk-container-id-1 div.sk-toggleable__content {\n",
       "  max-height: 0;\n",
       "  max-width: 0;\n",
       "  overflow: hidden;\n",
       "  text-align: left;\n",
       "  /* unfitted */\n",
       "  background-color: var(--sklearn-color-unfitted-level-0);\n",
       "}\n",
       "\n",
       "#sk-container-id-1 div.sk-toggleable__content.fitted {\n",
       "  /* fitted */\n",
       "  background-color: var(--sklearn-color-fitted-level-0);\n",
       "}\n",
       "\n",
       "#sk-container-id-1 div.sk-toggleable__content pre {\n",
       "  margin: 0.2em;\n",
       "  border-radius: 0.25em;\n",
       "  color: var(--sklearn-color-text);\n",
       "  /* unfitted */\n",
       "  background-color: var(--sklearn-color-unfitted-level-0);\n",
       "}\n",
       "\n",
       "#sk-container-id-1 div.sk-toggleable__content.fitted pre {\n",
       "  /* unfitted */\n",
       "  background-color: var(--sklearn-color-fitted-level-0);\n",
       "}\n",
       "\n",
       "#sk-container-id-1 input.sk-toggleable__control:checked~div.sk-toggleable__content {\n",
       "  /* Expand drop-down */\n",
       "  max-height: 200px;\n",
       "  max-width: 100%;\n",
       "  overflow: auto;\n",
       "}\n",
       "\n",
       "#sk-container-id-1 input.sk-toggleable__control:checked~label.sk-toggleable__label-arrow:before {\n",
       "  content: \"▾\";\n",
       "}\n",
       "\n",
       "/* Pipeline/ColumnTransformer-specific style */\n",
       "\n",
       "#sk-container-id-1 div.sk-label input.sk-toggleable__control:checked~label.sk-toggleable__label {\n",
       "  color: var(--sklearn-color-text);\n",
       "  background-color: var(--sklearn-color-unfitted-level-2);\n",
       "}\n",
       "\n",
       "#sk-container-id-1 div.sk-label.fitted input.sk-toggleable__control:checked~label.sk-toggleable__label {\n",
       "  background-color: var(--sklearn-color-fitted-level-2);\n",
       "}\n",
       "\n",
       "/* Estimator-specific style */\n",
       "\n",
       "/* Colorize estimator box */\n",
       "#sk-container-id-1 div.sk-estimator input.sk-toggleable__control:checked~label.sk-toggleable__label {\n",
       "  /* unfitted */\n",
       "  background-color: var(--sklearn-color-unfitted-level-2);\n",
       "}\n",
       "\n",
       "#sk-container-id-1 div.sk-estimator.fitted input.sk-toggleable__control:checked~label.sk-toggleable__label {\n",
       "  /* fitted */\n",
       "  background-color: var(--sklearn-color-fitted-level-2);\n",
       "}\n",
       "\n",
       "#sk-container-id-1 div.sk-label label.sk-toggleable__label,\n",
       "#sk-container-id-1 div.sk-label label {\n",
       "  /* The background is the default theme color */\n",
       "  color: var(--sklearn-color-text-on-default-background);\n",
       "}\n",
       "\n",
       "/* On hover, darken the color of the background */\n",
       "#sk-container-id-1 div.sk-label:hover label.sk-toggleable__label {\n",
       "  color: var(--sklearn-color-text);\n",
       "  background-color: var(--sklearn-color-unfitted-level-2);\n",
       "}\n",
       "\n",
       "/* Label box, darken color on hover, fitted */\n",
       "#sk-container-id-1 div.sk-label.fitted:hover label.sk-toggleable__label.fitted {\n",
       "  color: var(--sklearn-color-text);\n",
       "  background-color: var(--sklearn-color-fitted-level-2);\n",
       "}\n",
       "\n",
       "/* Estimator label */\n",
       "\n",
       "#sk-container-id-1 div.sk-label label {\n",
       "  font-family: monospace;\n",
       "  font-weight: bold;\n",
       "  display: inline-block;\n",
       "  line-height: 1.2em;\n",
       "}\n",
       "\n",
       "#sk-container-id-1 div.sk-label-container {\n",
       "  text-align: center;\n",
       "}\n",
       "\n",
       "/* Estimator-specific */\n",
       "#sk-container-id-1 div.sk-estimator {\n",
       "  font-family: monospace;\n",
       "  border: 1px dotted var(--sklearn-color-border-box);\n",
       "  border-radius: 0.25em;\n",
       "  box-sizing: border-box;\n",
       "  margin-bottom: 0.5em;\n",
       "  /* unfitted */\n",
       "  background-color: var(--sklearn-color-unfitted-level-0);\n",
       "}\n",
       "\n",
       "#sk-container-id-1 div.sk-estimator.fitted {\n",
       "  /* fitted */\n",
       "  background-color: var(--sklearn-color-fitted-level-0);\n",
       "}\n",
       "\n",
       "/* on hover */\n",
       "#sk-container-id-1 div.sk-estimator:hover {\n",
       "  /* unfitted */\n",
       "  background-color: var(--sklearn-color-unfitted-level-2);\n",
       "}\n",
       "\n",
       "#sk-container-id-1 div.sk-estimator.fitted:hover {\n",
       "  /* fitted */\n",
       "  background-color: var(--sklearn-color-fitted-level-2);\n",
       "}\n",
       "\n",
       "/* Specification for estimator info (e.g. \"i\" and \"?\") */\n",
       "\n",
       "/* Common style for \"i\" and \"?\" */\n",
       "\n",
       ".sk-estimator-doc-link,\n",
       "a:link.sk-estimator-doc-link,\n",
       "a:visited.sk-estimator-doc-link {\n",
       "  float: right;\n",
       "  font-size: smaller;\n",
       "  line-height: 1em;\n",
       "  font-family: monospace;\n",
       "  background-color: var(--sklearn-color-background);\n",
       "  border-radius: 1em;\n",
       "  height: 1em;\n",
       "  width: 1em;\n",
       "  text-decoration: none !important;\n",
       "  margin-left: 1ex;\n",
       "  /* unfitted */\n",
       "  border: var(--sklearn-color-unfitted-level-1) 1pt solid;\n",
       "  color: var(--sklearn-color-unfitted-level-1);\n",
       "}\n",
       "\n",
       ".sk-estimator-doc-link.fitted,\n",
       "a:link.sk-estimator-doc-link.fitted,\n",
       "a:visited.sk-estimator-doc-link.fitted {\n",
       "  /* fitted */\n",
       "  border: var(--sklearn-color-fitted-level-1) 1pt solid;\n",
       "  color: var(--sklearn-color-fitted-level-1);\n",
       "}\n",
       "\n",
       "/* On hover */\n",
       "div.sk-estimator:hover .sk-estimator-doc-link:hover,\n",
       ".sk-estimator-doc-link:hover,\n",
       "div.sk-label-container:hover .sk-estimator-doc-link:hover,\n",
       ".sk-estimator-doc-link:hover {\n",
       "  /* unfitted */\n",
       "  background-color: var(--sklearn-color-unfitted-level-3);\n",
       "  color: var(--sklearn-color-background);\n",
       "  text-decoration: none;\n",
       "}\n",
       "\n",
       "div.sk-estimator.fitted:hover .sk-estimator-doc-link.fitted:hover,\n",
       ".sk-estimator-doc-link.fitted:hover,\n",
       "div.sk-label-container:hover .sk-estimator-doc-link.fitted:hover,\n",
       ".sk-estimator-doc-link.fitted:hover {\n",
       "  /* fitted */\n",
       "  background-color: var(--sklearn-color-fitted-level-3);\n",
       "  color: var(--sklearn-color-background);\n",
       "  text-decoration: none;\n",
       "}\n",
       "\n",
       "/* Span, style for the box shown on hovering the info icon */\n",
       ".sk-estimator-doc-link span {\n",
       "  display: none;\n",
       "  z-index: 9999;\n",
       "  position: relative;\n",
       "  font-weight: normal;\n",
       "  right: .2ex;\n",
       "  padding: .5ex;\n",
       "  margin: .5ex;\n",
       "  width: min-content;\n",
       "  min-width: 20ex;\n",
       "  max-width: 50ex;\n",
       "  color: var(--sklearn-color-text);\n",
       "  box-shadow: 2pt 2pt 4pt #999;\n",
       "  /* unfitted */\n",
       "  background: var(--sklearn-color-unfitted-level-0);\n",
       "  border: .5pt solid var(--sklearn-color-unfitted-level-3);\n",
       "}\n",
       "\n",
       ".sk-estimator-doc-link.fitted span {\n",
       "  /* fitted */\n",
       "  background: var(--sklearn-color-fitted-level-0);\n",
       "  border: var(--sklearn-color-fitted-level-3);\n",
       "}\n",
       "\n",
       ".sk-estimator-doc-link:hover span {\n",
       "  display: block;\n",
       "}\n",
       "\n",
       "/* \"?\"-specific style due to the `<a>` HTML tag */\n",
       "\n",
       "#sk-container-id-1 a.estimator_doc_link {\n",
       "  float: right;\n",
       "  font-size: 1rem;\n",
       "  line-height: 1em;\n",
       "  font-family: monospace;\n",
       "  background-color: var(--sklearn-color-background);\n",
       "  border-radius: 1rem;\n",
       "  height: 1rem;\n",
       "  width: 1rem;\n",
       "  text-decoration: none;\n",
       "  /* unfitted */\n",
       "  color: var(--sklearn-color-unfitted-level-1);\n",
       "  border: var(--sklearn-color-unfitted-level-1) 1pt solid;\n",
       "}\n",
       "\n",
       "#sk-container-id-1 a.estimator_doc_link.fitted {\n",
       "  /* fitted */\n",
       "  border: var(--sklearn-color-fitted-level-1) 1pt solid;\n",
       "  color: var(--sklearn-color-fitted-level-1);\n",
       "}\n",
       "\n",
       "/* On hover */\n",
       "#sk-container-id-1 a.estimator_doc_link:hover {\n",
       "  /* unfitted */\n",
       "  background-color: var(--sklearn-color-unfitted-level-3);\n",
       "  color: var(--sklearn-color-background);\n",
       "  text-decoration: none;\n",
       "}\n",
       "\n",
       "#sk-container-id-1 a.estimator_doc_link.fitted:hover {\n",
       "  /* fitted */\n",
       "  background-color: var(--sklearn-color-fitted-level-3);\n",
       "}\n",
       "</style><div id=\"sk-container-id-1\" class=\"sk-top-container\"><div class=\"sk-text-repr-fallback\"><pre>RandomForestRegressor(random_state=2025)</pre><b>In a Jupyter environment, please rerun this cell to show the HTML representation or trust the notebook. <br />On GitHub, the HTML representation is unable to render, please try loading this page with nbviewer.org.</b></div><div class=\"sk-container\" hidden><div class=\"sk-item\"><div class=\"sk-estimator fitted sk-toggleable\"><input class=\"sk-toggleable__control sk-hidden--visually\" id=\"sk-estimator-id-1\" type=\"checkbox\" checked><label for=\"sk-estimator-id-1\" class=\"sk-toggleable__label fitted sk-toggleable__label-arrow fitted\">&nbsp;&nbsp;RandomForestRegressor<a class=\"sk-estimator-doc-link fitted\" rel=\"noreferrer\" target=\"_blank\" href=\"https://scikit-learn.org/1.5/modules/generated/sklearn.ensemble.RandomForestRegressor.html\">?<span>Documentation for RandomForestRegressor</span></a><span class=\"sk-estimator-doc-link fitted\">i<span>Fitted</span></span></label><div class=\"sk-toggleable__content fitted\"><pre>RandomForestRegressor(random_state=2025)</pre></div> </div></div></div></div>"
      ],
      "text/plain": [
       "RandomForestRegressor(random_state=2025)"
      ]
     },
     "execution_count": 22,
     "metadata": {},
     "output_type": "execute_result"
    }
   ],
   "source": [
    "from sklearn.model_selection import train_test_split\n",
    "from sklearn.ensemble import RandomForestRegressor\n",
    "\n",
    "X = np.array(df[[\"Number_of_Riders\", \"Number_of_Drivers\", \"Vehicle_Type\", \"Expected_Ride_Duration\"]])\n",
    "y = np.array(df[[\"adjusted_ride_cost\"]])\n",
    "\n",
    "X_train, X_test, y_train, y_test = train_test_split(X, y, test_size=0.2, random_state=2025)\n",
    "\n",
    "y_train = y_train.ravel()\n",
    "y_test = y_test.ravel()\n",
    "\n",
    "model = RandomForestRegressor(n_estimators=100, random_state=2025)\n",
    "model.fit(X_train, y_train)"
   ]
  },
  {
   "cell_type": "code",
   "execution_count": 23,
   "id": "215023b0",
   "metadata": {},
   "outputs": [],
   "source": [
    "def get_vehicle_type_numeric(vehicle_type):\n",
    "    vehicle_type_map = {\n",
    "        'Premium': 1,\n",
    "        'Economy': 0\n",
    "    }\n",
    "    return vehicle_type_map.get(vehicle_type)\n",
    "\n",
    "\n",
    "def predict_price(number_of_riders, number_of_drivers, vehicle_type, expected_ride_duration):\n",
    "    vehicle_type_numeric = get_vehicle_type_numeric(vehicle_type)\n",
    "    if vehicle_type_numeric is None:\n",
    "        raise ValueError(\"Invalid vehicle type. Use 'Premium' or 'Economy'.\")\n",
    "    \n",
    "    input_data = np.array([[number_of_riders, number_of_drivers, vehicle_type_numeric, expected_ride_duration]])\n",
    "    predicted_price = model.predict(input_data)\n",
    "    return predicted_price[0]"
   ]
  },
  {
   "cell_type": "code",
   "execution_count": 24,
   "id": "ac684131",
   "metadata": {},
   "outputs": [
    {
     "name": "stdout",
     "output_type": "stream",
     "text": [
      "Predicted price: 258.62983334926486\n"
     ]
    }
   ],
   "source": [
    "user_number_of_riders = 50\n",
    "user_number_of_drivers = 25\n",
    "user_vehicle_type = \"Economy\"\n",
    "Expected_Ride_Duration = 30\n",
    "predicted_price = predict_price(user_number_of_riders, user_number_of_drivers, user_vehicle_type, Expected_Ride_Duration)\n",
    "print(\"Predicted price:\", predicted_price)"
   ]
  },
  {
   "cell_type": "code",
   "execution_count": 25,
   "id": "b2ae51d9",
   "metadata": {},
   "outputs": [
    {
     "data": {
      "application/vnd.plotly.v1+json": {
       "config": {
        "plotlyServerURL": "https://plot.ly"
       },
       "data": [
        {
         "marker": {
          "color": "blue",
          "size": 5
         },
         "mode": "markers",
         "name": "Predicted vs Actual",
         "type": "scatter",
         "x": {
          "bdata": "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",
          "dtype": "f8"
         },
         "y": {
          "bdata": "pK9kybS/hEBRJ8fSPHaAQPwgHAp1b3pAxA7U32QmhEDJkHSUkYBgQEIJ9AIgr4NAkiVUybeClEDcW+YXs5KKQCplBveuboVAmg+ku27rl0DTAa1HFTOSQPYXQlO+so9A4Itl1PoNckCDbY9pB5eHQEXdZMbDanVAbahSM/bUgkCDHkRPerGEQPDDqGFucoBAnAqsNUB/lEBhvg1KkYmNQH+iqUq1AJZAiXO/2Yw6hkBhSZguLceLQPbxxvukFZBAUhxUqxH3hUC8DrQLq3+GQFtyn6/ISoFAPgnLv2nekUDwsomltlSBQDY/WLt9pI1A+0dOXEAQl0Cx9sxy1wt9QGNpG+w7Yo9ALytlMIybb0A/lL3B3FCBQJtbj0IHVW9AHkgq6qzIgUCzj5AOJZyKQIo+SgKN+5BA2sgYJkU3kkAcVS5LYJJ1QL308Zc4E5lAxuHzSOTbZkBySA+OVzl4QIO2tskIa5JAY+0F2cTrYEAJygh9gLCGQCCe65HyYmRAjPbMnup4f0BmyBA3i1qBQOwdDPuxu5dAKP6dvPT/dkC6vpnvnm94QDd74OTxsJRAWuVLcvRqjUAczYDgp5yUQH8F65WimJBA7zStWQF1gEASuH8YAxqJQPQlcpCiJaZAtx0+CKXVeUCsbnhme8yEQFf1lmb3BnlAmOlMbKRfiEAoTfRQyz2KQB0zVhf/P41AKm3lmpbVkUBYsVIYEPdzQOouHcjNHIpAs4L/wm5fikBjGPnKaBB5QKWLCaEOmHNAkpMcjymEikBRAuHW2DSTQOPb1wzo2pRAJgAlgBcBiEDK7dl6GOCEQK/8bM+LKZBAGuCxdUuWVkCR/TAN7mB+QE4aroFIIXJAwYuE6//rdEDzlwNhrEKGQETM6pFD1YdAhpDteTv/lUC8P10lxhqKQEPKyHB3p3NAr3oqtLWqUkCTmWAqBthQQJQ62Bjah35Ae/PEQZiChkCq2BYntqmGQBMxV33pkoNAWGteXfaHjkB2rKrfiDemQC+I01RZPnNAZmbPrwNtfEDDWW0mVcp2QDi5r0ouD4VAaZ1fzh/7e0Coop40CRlzQLZF5posUoJAMTBq2PZoiEDhu8m+XFSHQAQHy/F0JlRAMh6ZBMlueEBqMJ9sojqQQFl9EaxPxYFA0wsmQZcBhECjht7o3wd5QGY86hG1fo5APx1pZ6+dgkAWlIvIJuGTQExasjSAMpRAODKQGsHFh0DXIirRVCZ8QGQWSiRtCH1A3ImU9Uy/bkB1nLJe4vyhQGPd1YrQ0HNAKcxuxzPvlUDTZZYDfnOOQNTrWjQOQI1AkciyULFsWEAs68BDbXaPQAB/4vBZ1JlAQWGVjBWfcUD45MwVGQRxQJOyzFLmQZNAnOl6woP9hEBFl9P2bNVlQPKGhLe/44JAjB5k80qVgECh8iBdc8qNQNIuYWHBvIlAb5CHC9wbdUBv00x5MLWGQFqU0Mj/dHZAVjW+7kyUjUCuUajvBtuEQCrWU+gnkIlAVljlR3uefEDf0an3LAiDQA61YjNJPHJAs6nFMlbjgEAIU2pXJsyPQNoMUqvvoIVA05UAZ/wflEA7Kxlb5QFmQPxAUL5Ce5FAKSZP29fOaUDGrgI1pECQQGlb9Ha9XY9AobjNZ2umc0AIWLAMb0SCQAFJBVeROn9A1HaD3GQUcUAvIfgkDMWAQMtEkWJFJ4BA6zym+VLpgkAd7Rn6N8CQQE+4rTLUAI1ApvRjen99mUADrL96Qq2RQFxPKfNVno9Act/dnNNkb0DRAo8CSSeRQLwtZ2kTToFAKY2xTSLNikCgEQDlZPWDQEM8PunewoFAnSmbjkmxZUBlnRf7/LyAQL1gRc0oP4RAHUyFF4ubhUBKTADnvW96QPdRgPElDJ1ApRqVzan/fUDhYsIRPviRQBF/CHFt2nxAHPbX2W9fkUBoy/gci8+QQGmQ9CzBb15Ac927mp0bikA8S9s4Hml5QIQms1aUc3dA7GYAkIe8fEBktu7H9192QJOG9qLrX5VAVKbR5agsjkAoPVMLBF+AQBFtHMCP+HZAgxPLKkLPiEAK5kM9g0iDQFivB0hYLXtAd9UxNfXWlEBhigrLmPN2QPz+0xmnsZFA5KgvmKNUdUDFpRPQc/9dQA==",
          "dtype": "f8"
         }
        },
        {
         "line": {
          "color": "red",
          "dash": "dash"
         },
         "mode": "lines",
         "name": "Ideal",
         "type": "scatter",
         "x": [
          50.19646063042099,
          2810.4360678198705
         ],
         "y": [
          50.19646063042099,
          2810.4360678198705
         ]
        }
       ],
       "layout": {
        "height": 600,
        "showlegend": true,
        "template": {
         "data": {
          "bar": [
           {
            "error_x": {
             "color": "#2a3f5f"
            },
            "error_y": {
             "color": "#2a3f5f"
            },
            "marker": {
             "line": {
              "color": "#E5ECF6",
              "width": 0.5
             },
             "pattern": {
              "fillmode": "overlay",
              "size": 10,
              "solidity": 0.2
             }
            },
            "type": "bar"
           }
          ],
          "barpolar": [
           {
            "marker": {
             "line": {
              "color": "#E5ECF6",
              "width": 0.5
             },
             "pattern": {
              "fillmode": "overlay",
              "size": 10,
              "solidity": 0.2
             }
            },
            "type": "barpolar"
           }
          ],
          "carpet": [
           {
            "aaxis": {
             "endlinecolor": "#2a3f5f",
             "gridcolor": "white",
             "linecolor": "white",
             "minorgridcolor": "white",
             "startlinecolor": "#2a3f5f"
            },
            "baxis": {
             "endlinecolor": "#2a3f5f",
             "gridcolor": "white",
             "linecolor": "white",
             "minorgridcolor": "white",
             "startlinecolor": "#2a3f5f"
            },
            "type": "carpet"
           }
          ],
          "choropleth": [
           {
            "colorbar": {
             "outlinewidth": 0,
             "ticks": ""
            },
            "type": "choropleth"
           }
          ],
          "contour": [
           {
            "colorbar": {
             "outlinewidth": 0,
             "ticks": ""
            },
            "colorscale": [
             [
              0,
              "#0d0887"
             ],
             [
              0.1111111111111111,
              "#46039f"
             ],
             [
              0.2222222222222222,
              "#7201a8"
             ],
             [
              0.3333333333333333,
              "#9c179e"
             ],
             [
              0.4444444444444444,
              "#bd3786"
             ],
             [
              0.5555555555555556,
              "#d8576b"
             ],
             [
              0.6666666666666666,
              "#ed7953"
             ],
             [
              0.7777777777777778,
              "#fb9f3a"
             ],
             [
              0.8888888888888888,
              "#fdca26"
             ],
             [
              1,
              "#f0f921"
             ]
            ],
            "type": "contour"
           }
          ],
          "contourcarpet": [
           {
            "colorbar": {
             "outlinewidth": 0,
             "ticks": ""
            },
            "type": "contourcarpet"
           }
          ],
          "heatmap": [
           {
            "colorbar": {
             "outlinewidth": 0,
             "ticks": ""
            },
            "colorscale": [
             [
              0,
              "#0d0887"
             ],
             [
              0.1111111111111111,
              "#46039f"
             ],
             [
              0.2222222222222222,
              "#7201a8"
             ],
             [
              0.3333333333333333,
              "#9c179e"
             ],
             [
              0.4444444444444444,
              "#bd3786"
             ],
             [
              0.5555555555555556,
              "#d8576b"
             ],
             [
              0.6666666666666666,
              "#ed7953"
             ],
             [
              0.7777777777777778,
              "#fb9f3a"
             ],
             [
              0.8888888888888888,
              "#fdca26"
             ],
             [
              1,
              "#f0f921"
             ]
            ],
            "type": "heatmap"
           }
          ],
          "histogram": [
           {
            "marker": {
             "pattern": {
              "fillmode": "overlay",
              "size": 10,
              "solidity": 0.2
             }
            },
            "type": "histogram"
           }
          ],
          "histogram2d": [
           {
            "colorbar": {
             "outlinewidth": 0,
             "ticks": ""
            },
            "colorscale": [
             [
              0,
              "#0d0887"
             ],
             [
              0.1111111111111111,
              "#46039f"
             ],
             [
              0.2222222222222222,
              "#7201a8"
             ],
             [
              0.3333333333333333,
              "#9c179e"
             ],
             [
              0.4444444444444444,
              "#bd3786"
             ],
             [
              0.5555555555555556,
              "#d8576b"
             ],
             [
              0.6666666666666666,
              "#ed7953"
             ],
             [
              0.7777777777777778,
              "#fb9f3a"
             ],
             [
              0.8888888888888888,
              "#fdca26"
             ],
             [
              1,
              "#f0f921"
             ]
            ],
            "type": "histogram2d"
           }
          ],
          "histogram2dcontour": [
           {
            "colorbar": {
             "outlinewidth": 0,
             "ticks": ""
            },
            "colorscale": [
             [
              0,
              "#0d0887"
             ],
             [
              0.1111111111111111,
              "#46039f"
             ],
             [
              0.2222222222222222,
              "#7201a8"
             ],
             [
              0.3333333333333333,
              "#9c179e"
             ],
             [
              0.4444444444444444,
              "#bd3786"
             ],
             [
              0.5555555555555556,
              "#d8576b"
             ],
             [
              0.6666666666666666,
              "#ed7953"
             ],
             [
              0.7777777777777778,
              "#fb9f3a"
             ],
             [
              0.8888888888888888,
              "#fdca26"
             ],
             [
              1,
              "#f0f921"
             ]
            ],
            "type": "histogram2dcontour"
           }
          ],
          "mesh3d": [
           {
            "colorbar": {
             "outlinewidth": 0,
             "ticks": ""
            },
            "type": "mesh3d"
           }
          ],
          "parcoords": [
           {
            "line": {
             "colorbar": {
              "outlinewidth": 0,
              "ticks": ""
             }
            },
            "type": "parcoords"
           }
          ],
          "pie": [
           {
            "automargin": true,
            "type": "pie"
           }
          ],
          "scatter": [
           {
            "fillpattern": {
             "fillmode": "overlay",
             "size": 10,
             "solidity": 0.2
            },
            "type": "scatter"
           }
          ],
          "scatter3d": [
           {
            "line": {
             "colorbar": {
              "outlinewidth": 0,
              "ticks": ""
             }
            },
            "marker": {
             "colorbar": {
              "outlinewidth": 0,
              "ticks": ""
             }
            },
            "type": "scatter3d"
           }
          ],
          "scattercarpet": [
           {
            "marker": {
             "colorbar": {
              "outlinewidth": 0,
              "ticks": ""
             }
            },
            "type": "scattercarpet"
           }
          ],
          "scattergeo": [
           {
            "marker": {
             "colorbar": {
              "outlinewidth": 0,
              "ticks": ""
             }
            },
            "type": "scattergeo"
           }
          ],
          "scattergl": [
           {
            "marker": {
             "colorbar": {
              "outlinewidth": 0,
              "ticks": ""
             }
            },
            "type": "scattergl"
           }
          ],
          "scattermap": [
           {
            "marker": {
             "colorbar": {
              "outlinewidth": 0,
              "ticks": ""
             }
            },
            "type": "scattermap"
           }
          ],
          "scattermapbox": [
           {
            "marker": {
             "colorbar": {
              "outlinewidth": 0,
              "ticks": ""
             }
            },
            "type": "scattermapbox"
           }
          ],
          "scatterpolar": [
           {
            "marker": {
             "colorbar": {
              "outlinewidth": 0,
              "ticks": ""
             }
            },
            "type": "scatterpolar"
           }
          ],
          "scatterpolargl": [
           {
            "marker": {
             "colorbar": {
              "outlinewidth": 0,
              "ticks": ""
             }
            },
            "type": "scatterpolargl"
           }
          ],
          "scatterternary": [
           {
            "marker": {
             "colorbar": {
              "outlinewidth": 0,
              "ticks": ""
             }
            },
            "type": "scatterternary"
           }
          ],
          "surface": [
           {
            "colorbar": {
             "outlinewidth": 0,
             "ticks": ""
            },
            "colorscale": [
             [
              0,
              "#0d0887"
             ],
             [
              0.1111111111111111,
              "#46039f"
             ],
             [
              0.2222222222222222,
              "#7201a8"
             ],
             [
              0.3333333333333333,
              "#9c179e"
             ],
             [
              0.4444444444444444,
              "#bd3786"
             ],
             [
              0.5555555555555556,
              "#d8576b"
             ],
             [
              0.6666666666666666,
              "#ed7953"
             ],
             [
              0.7777777777777778,
              "#fb9f3a"
             ],
             [
              0.8888888888888888,
              "#fdca26"
             ],
             [
              1,
              "#f0f921"
             ]
            ],
            "type": "surface"
           }
          ],
          "table": [
           {
            "cells": {
             "fill": {
              "color": "#EBF0F8"
             },
             "line": {
              "color": "white"
             }
            },
            "header": {
             "fill": {
              "color": "#C8D4E3"
             },
             "line": {
              "color": "white"
             }
            },
            "type": "table"
           }
          ]
         },
         "layout": {
          "annotationdefaults": {
           "arrowcolor": "#2a3f5f",
           "arrowhead": 0,
           "arrowwidth": 1
          },
          "autotypenumbers": "strict",
          "coloraxis": {
           "colorbar": {
            "outlinewidth": 0,
            "ticks": ""
           }
          },
          "colorscale": {
           "diverging": [
            [
             0,
             "#8e0152"
            ],
            [
             0.1,
             "#c51b7d"
            ],
            [
             0.2,
             "#de77ae"
            ],
            [
             0.3,
             "#f1b6da"
            ],
            [
             0.4,
             "#fde0ef"
            ],
            [
             0.5,
             "#f7f7f7"
            ],
            [
             0.6,
             "#e6f5d0"
            ],
            [
             0.7,
             "#b8e186"
            ],
            [
             0.8,
             "#7fbc41"
            ],
            [
             0.9,
             "#4d9221"
            ],
            [
             1,
             "#276419"
            ]
           ],
           "sequential": [
            [
             0,
             "#0d0887"
            ],
            [
             0.1111111111111111,
             "#46039f"
            ],
            [
             0.2222222222222222,
             "#7201a8"
            ],
            [
             0.3333333333333333,
             "#9c179e"
            ],
            [
             0.4444444444444444,
             "#bd3786"
            ],
            [
             0.5555555555555556,
             "#d8576b"
            ],
            [
             0.6666666666666666,
             "#ed7953"
            ],
            [
             0.7777777777777778,
             "#fb9f3a"
            ],
            [
             0.8888888888888888,
             "#fdca26"
            ],
            [
             1,
             "#f0f921"
            ]
           ],
           "sequentialminus": [
            [
             0,
             "#0d0887"
            ],
            [
             0.1111111111111111,
             "#46039f"
            ],
            [
             0.2222222222222222,
             "#7201a8"
            ],
            [
             0.3333333333333333,
             "#9c179e"
            ],
            [
             0.4444444444444444,
             "#bd3786"
            ],
            [
             0.5555555555555556,
             "#d8576b"
            ],
            [
             0.6666666666666666,
             "#ed7953"
            ],
            [
             0.7777777777777778,
             "#fb9f3a"
            ],
            [
             0.8888888888888888,
             "#fdca26"
            ],
            [
             1,
             "#f0f921"
            ]
           ]
          },
          "colorway": [
           "#636efa",
           "#EF553B",
           "#00cc96",
           "#ab63fa",
           "#FFA15A",
           "#19d3f3",
           "#FF6692",
           "#B6E880",
           "#FF97FF",
           "#FECB52"
          ],
          "font": {
           "color": "#2a3f5f"
          },
          "geo": {
           "bgcolor": "white",
           "lakecolor": "white",
           "landcolor": "#E5ECF6",
           "showlakes": true,
           "showland": true,
           "subunitcolor": "white"
          },
          "hoverlabel": {
           "align": "left"
          },
          "hovermode": "closest",
          "mapbox": {
           "style": "light"
          },
          "paper_bgcolor": "white",
          "plot_bgcolor": "#E5ECF6",
          "polar": {
           "angularaxis": {
            "gridcolor": "white",
            "linecolor": "white",
            "ticks": ""
           },
           "bgcolor": "#E5ECF6",
           "radialaxis": {
            "gridcolor": "white",
            "linecolor": "white",
            "ticks": ""
           }
          },
          "scene": {
           "xaxis": {
            "backgroundcolor": "#E5ECF6",
            "gridcolor": "white",
            "gridwidth": 2,
            "linecolor": "white",
            "showbackground": true,
            "ticks": "",
            "zerolinecolor": "white"
           },
           "yaxis": {
            "backgroundcolor": "#E5ECF6",
            "gridcolor": "white",
            "gridwidth": 2,
            "linecolor": "white",
            "showbackground": true,
            "ticks": "",
            "zerolinecolor": "white"
           },
           "zaxis": {
            "backgroundcolor": "#E5ECF6",
            "gridcolor": "white",
            "gridwidth": 2,
            "linecolor": "white",
            "showbackground": true,
            "ticks": "",
            "zerolinecolor": "white"
           }
          },
          "shapedefaults": {
           "line": {
            "color": "#2a3f5f"
           }
          },
          "ternary": {
           "aaxis": {
            "gridcolor": "white",
            "linecolor": "white",
            "ticks": ""
           },
           "baxis": {
            "gridcolor": "white",
            "linecolor": "white",
            "ticks": ""
           },
           "bgcolor": "#E5ECF6",
           "caxis": {
            "gridcolor": "white",
            "linecolor": "white",
            "ticks": ""
           }
          },
          "title": {
           "x": 0.05
          },
          "xaxis": {
           "automargin": true,
           "gridcolor": "white",
           "linecolor": "white",
           "ticks": "",
           "title": {
            "standoff": 15
           },
           "zerolinecolor": "white",
           "zerolinewidth": 2
          },
          "yaxis": {
           "automargin": true,
           "gridcolor": "white",
           "linecolor": "white",
           "ticks": "",
           "title": {
            "standoff": 15
           },
           "zerolinecolor": "white",
           "zerolinewidth": 2
          }
         }
        },
        "title": {
         "text": "Predicted vs Actual Ride Costs"
        },
        "width": 800,
        "xaxis": {
         "title": {
          "text": "Actual Ride Cost"
         }
        },
        "yaxis": {
         "title": {
          "text": "Predicted Ride Cost"
         }
        }
       }
      }
     },
     "metadata": {},
     "output_type": "display_data"
    }
   ],
   "source": [
    "y_pred = model.predict(X_test)\n",
    "\n",
    "fig = go.Figure()\n",
    "\n",
    "fig.add_trace(go.Scatter(\n",
    "    x=y_test,\n",
    "    y=y_pred,\n",
    "    mode='markers',\n",
    "    name='Predicted vs Actual',\n",
    "    marker=dict(color='blue', size=5)\n",
    "))\n",
    "\n",
    "fig.add_trace(go.Scatter(\n",
    "    x=[min(y_test.flatten()), max(y_test.flatten())],\n",
    "    y=[min(y_test.flatten()), max(y_test.flatten())],\n",
    "    mode='lines',\n",
    "    name='Ideal',\n",
    "    line=dict(color='red', dash='dash')\n",
    "))\n",
    "\n",
    "fig.update_layout(\n",
    "    title='Predicted vs Actual Ride Costs',\n",
    "    xaxis_title='Actual Ride Cost',\n",
    "    yaxis_title='Predicted Ride Cost',\n",
    "    width=800,\n",
    "    height=600,\n",
    "    showlegend=True\n",
    ")\n",
    "\n",
    "fig.show()"
   ]
  },
  {
   "cell_type": "code",
   "execution_count": null,
   "id": "353935f9",
   "metadata": {},
   "outputs": [],
   "source": []
  }
 ],
 "metadata": {
  "kernelspec": {
   "display_name": "Python 3",
   "language": "python",
   "name": "python3"
  },
  "language_info": {
   "codemirror_mode": {
    "name": "ipython",
    "version": 3
   },
   "file_extension": ".py",
   "mimetype": "text/x-python",
   "name": "python",
   "nbconvert_exporter": "python",
   "pygments_lexer": "ipython3",
   "version": "3.10.10"
  }
 },
 "nbformat": 4,
 "nbformat_minor": 5
}
